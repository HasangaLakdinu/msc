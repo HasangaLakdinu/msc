{
 "cells": [
  {
   "cell_type": "code",
   "execution_count": 1,
   "metadata": {},
   "outputs": [],
   "source": [
    "import numpy as np\n",
    "import matplotlib.pyplot as plt\n",
    "import pandas as pd"
   ]
  },
  {
   "cell_type": "code",
   "execution_count": 2,
   "metadata": {},
   "outputs": [],
   "source": [
    "dataset=pd.read_csv(\"vscodecomplexclass.csv\")"
   ]
  },
  {
   "cell_type": "code",
   "execution_count": 3,
   "metadata": {},
   "outputs": [],
   "source": [
    "dataset.dropna(inplace=True)"
   ]
  },
  {
   "cell_type": "code",
   "execution_count": 4,
   "metadata": {},
   "outputs": [
    {
     "data": {
      "text/html": [
       "<div>\n",
       "<style scoped>\n",
       "    .dataframe tbody tr th:only-of-type {\n",
       "        vertical-align: middle;\n",
       "    }\n",
       "\n",
       "    .dataframe tbody tr th {\n",
       "        vertical-align: top;\n",
       "    }\n",
       "\n",
       "    .dataframe thead th {\n",
       "        text-align: right;\n",
       "    }\n",
       "</style>\n",
       "<table border=\"1\" class=\"dataframe\">\n",
       "  <thead>\n",
       "    <tr style=\"text-align: right;\">\n",
       "      <th></th>\n",
       "      <th>noOfComments</th>\n",
       "      <th>bodyLength</th>\n",
       "      <th>bodyContent</th>\n",
       "      <th>commentsSentimentValue</th>\n",
       "      <th>noOfevents</th>\n",
       "      <th>filteredUsers</th>\n",
       "      <th>noOfDevelopers</th>\n",
       "      <th>bugAuthor</th>\n",
       "      <th>labels</th>\n",
       "      <th>sameBugFixTime</th>\n",
       "      <th>timeToFix</th>\n",
       "      <th>sameBugFixTimeClass</th>\n",
       "      <th>timeToFixClass</th>\n",
       "    </tr>\n",
       "  </thead>\n",
       "  <tbody>\n",
       "    <tr>\n",
       "      <th>0</th>\n",
       "      <td>3</td>\n",
       "      <td>999</td>\n",
       "      <td>Notebook renders output twice ,  ⚠️⚠️ Do Not D...</td>\n",
       "      <td>4.573</td>\n",
       "      <td>18.0</td>\n",
       "      <td>brettfo,rebornix,vscode-triage-bot,DonJayamann...</td>\n",
       "      <td>10</td>\n",
       "      <td>colombod</td>\n",
       "      <td>bug,notebook</td>\n",
       "      <td>0.022500</td>\n",
       "      <td>0.679167</td>\n",
       "      <td>1</td>\n",
       "      <td>1</td>\n",
       "    </tr>\n",
       "    <tr>\n",
       "      <th>1</th>\n",
       "      <td>0</td>\n",
       "      <td>933</td>\n",
       "      <td>Typo: Setting -&gt; Suggest: Show Inline Details ...</td>\n",
       "      <td>0.000</td>\n",
       "      <td>6.0</td>\n",
       "      <td>clarkio,roblourens,RMacfarlane,vscode-triage-bot</td>\n",
       "      <td>4</td>\n",
       "      <td>clarkio</td>\n",
       "      <td>bug,unreleased</td>\n",
       "      <td>122.152778</td>\n",
       "      <td>0.329167</td>\n",
       "      <td>3</td>\n",
       "      <td>1</td>\n",
       "    </tr>\n",
       "    <tr>\n",
       "      <th>2</th>\n",
       "      <td>2</td>\n",
       "      <td>584</td>\n",
       "      <td>notebook status bar icon colors missing , Ther...</td>\n",
       "      <td>1.000</td>\n",
       "      <td>19.0</td>\n",
       "      <td>misolori,aeschli,DonJayamanne,greazer,claudiar...</td>\n",
       "      <td>8</td>\n",
       "      <td>misolori</td>\n",
       "      <td>bug,icons-product,notebook,themes,unreleased</td>\n",
       "      <td>0.246944</td>\n",
       "      <td>1.224444</td>\n",
       "      <td>1</td>\n",
       "      <td>1</td>\n",
       "    </tr>\n",
       "    <tr>\n",
       "      <th>3</th>\n",
       "      <td>0</td>\n",
       "      <td>173</td>\n",
       "      <td>Extension filter doesn't work in keybindings e...</td>\n",
       "      <td>0.000</td>\n",
       "      <td>8.0</td>\n",
       "      <td>sandy081,vscode-triage-bot</td>\n",
       "      <td>2</td>\n",
       "      <td>usernamehw</td>\n",
       "      <td>bug,insiders-released,keybindings-editor</td>\n",
       "      <td>3.044722</td>\n",
       "      <td>1.107222</td>\n",
       "      <td>1</td>\n",
       "      <td>1</td>\n",
       "    </tr>\n",
       "    <tr>\n",
       "      <th>4</th>\n",
       "      <td>5</td>\n",
       "      <td>4474</td>\n",
       "      <td>potential listener LEAK detected, having 175  ...</td>\n",
       "      <td>0.651</td>\n",
       "      <td>14.0</td>\n",
       "      <td>bpasero,sbatten,sandy081,vscode-triage-bot,jri...</td>\n",
       "      <td>5</td>\n",
       "      <td>bpasero</td>\n",
       "      <td>bug,freeze-slow-crash-leak,menus,unreleased</td>\n",
       "      <td>15.932500</td>\n",
       "      <td>16.525833</td>\n",
       "      <td>1</td>\n",
       "      <td>1</td>\n",
       "    </tr>\n",
       "  </tbody>\n",
       "</table>\n",
       "</div>"
      ],
      "text/plain": [
       "   noOfComments  bodyLength  \\\n",
       "0             3         999   \n",
       "1             0         933   \n",
       "2             2         584   \n",
       "3             0         173   \n",
       "4             5        4474   \n",
       "\n",
       "                                         bodyContent  commentsSentimentValue  \\\n",
       "0  Notebook renders output twice ,  ⚠️⚠️ Do Not D...                   4.573   \n",
       "1  Typo: Setting -> Suggest: Show Inline Details ...                   0.000   \n",
       "2  notebook status bar icon colors missing , Ther...                   1.000   \n",
       "3  Extension filter doesn't work in keybindings e...                   0.000   \n",
       "4  potential listener LEAK detected, having 175  ...                   0.651   \n",
       "\n",
       "   noOfevents                                      filteredUsers  \\\n",
       "0        18.0  brettfo,rebornix,vscode-triage-bot,DonJayamann...   \n",
       "1         6.0   clarkio,roblourens,RMacfarlane,vscode-triage-bot   \n",
       "2        19.0  misolori,aeschli,DonJayamanne,greazer,claudiar...   \n",
       "3         8.0                         sandy081,vscode-triage-bot   \n",
       "4        14.0  bpasero,sbatten,sandy081,vscode-triage-bot,jri...   \n",
       "\n",
       "   noOfDevelopers   bugAuthor                                        labels  \\\n",
       "0              10    colombod                                  bug,notebook   \n",
       "1               4     clarkio                                bug,unreleased   \n",
       "2               8    misolori  bug,icons-product,notebook,themes,unreleased   \n",
       "3               2  usernamehw      bug,insiders-released,keybindings-editor   \n",
       "4               5     bpasero   bug,freeze-slow-crash-leak,menus,unreleased   \n",
       "\n",
       "   sameBugFixTime  timeToFix  sameBugFixTimeClass  timeToFixClass  \n",
       "0        0.022500   0.679167                    1               1  \n",
       "1      122.152778   0.329167                    3               1  \n",
       "2        0.246944   1.224444                    1               1  \n",
       "3        3.044722   1.107222                    1               1  \n",
       "4       15.932500  16.525833                    1               1  "
      ]
     },
     "execution_count": 4,
     "metadata": {},
     "output_type": "execute_result"
    }
   ],
   "source": [
    "dataset.head()"
   ]
  },
  {
   "cell_type": "code",
   "execution_count": 5,
   "metadata": {},
   "outputs": [],
   "source": [
    "dataset=dataset.drop(['bodyContent','bodyLength','filteredUsers','labels','bugAuthor','commentsSentimentValue','sameBugFixTime','timeToFix'],axis=1)"
   ]
  },
  {
   "cell_type": "code",
   "execution_count": 6,
   "metadata": {},
   "outputs": [
    {
     "data": {
      "text/plain": [
       "(1001, 5)"
      ]
     },
     "execution_count": 6,
     "metadata": {},
     "output_type": "execute_result"
    }
   ],
   "source": [
    "dataset.shape"
   ]
  },
  {
   "cell_type": "code",
   "execution_count": 7,
   "metadata": {},
   "outputs": [
    {
     "data": {
      "text/html": [
       "<div>\n",
       "<style scoped>\n",
       "    .dataframe tbody tr th:only-of-type {\n",
       "        vertical-align: middle;\n",
       "    }\n",
       "\n",
       "    .dataframe tbody tr th {\n",
       "        vertical-align: top;\n",
       "    }\n",
       "\n",
       "    .dataframe thead th {\n",
       "        text-align: right;\n",
       "    }\n",
       "</style>\n",
       "<table border=\"1\" class=\"dataframe\">\n",
       "  <thead>\n",
       "    <tr style=\"text-align: right;\">\n",
       "      <th></th>\n",
       "      <th>noOfComments</th>\n",
       "      <th>noOfevents</th>\n",
       "      <th>noOfDevelopers</th>\n",
       "      <th>sameBugFixTimeClass</th>\n",
       "      <th>timeToFixClass</th>\n",
       "    </tr>\n",
       "  </thead>\n",
       "  <tbody>\n",
       "    <tr>\n",
       "      <th>0</th>\n",
       "      <td>3</td>\n",
       "      <td>18.0</td>\n",
       "      <td>10</td>\n",
       "      <td>1</td>\n",
       "      <td>1</td>\n",
       "    </tr>\n",
       "    <tr>\n",
       "      <th>1</th>\n",
       "      <td>0</td>\n",
       "      <td>6.0</td>\n",
       "      <td>4</td>\n",
       "      <td>3</td>\n",
       "      <td>1</td>\n",
       "    </tr>\n",
       "    <tr>\n",
       "      <th>2</th>\n",
       "      <td>2</td>\n",
       "      <td>19.0</td>\n",
       "      <td>8</td>\n",
       "      <td>1</td>\n",
       "      <td>1</td>\n",
       "    </tr>\n",
       "    <tr>\n",
       "      <th>3</th>\n",
       "      <td>0</td>\n",
       "      <td>8.0</td>\n",
       "      <td>2</td>\n",
       "      <td>1</td>\n",
       "      <td>1</td>\n",
       "    </tr>\n",
       "    <tr>\n",
       "      <th>4</th>\n",
       "      <td>5</td>\n",
       "      <td>14.0</td>\n",
       "      <td>5</td>\n",
       "      <td>1</td>\n",
       "      <td>1</td>\n",
       "    </tr>\n",
       "  </tbody>\n",
       "</table>\n",
       "</div>"
      ],
      "text/plain": [
       "   noOfComments  noOfevents  noOfDevelopers  sameBugFixTimeClass  \\\n",
       "0             3        18.0              10                    1   \n",
       "1             0         6.0               4                    3   \n",
       "2             2        19.0               8                    1   \n",
       "3             0         8.0               2                    1   \n",
       "4             5        14.0               5                    1   \n",
       "\n",
       "   timeToFixClass  \n",
       "0               1  \n",
       "1               1  \n",
       "2               1  \n",
       "3               1  \n",
       "4               1  "
      ]
     },
     "execution_count": 7,
     "metadata": {},
     "output_type": "execute_result"
    }
   ],
   "source": [
    "dataset.head()"
   ]
  },
  {
   "cell_type": "code",
   "execution_count": 8,
   "metadata": {},
   "outputs": [
    {
     "data": {
      "text/plain": [
       "noOfComments           33\n",
       "noOfevents             28\n",
       "noOfDevelopers         18\n",
       "sameBugFixTimeClass     6\n",
       "timeToFixClass          6\n",
       "dtype: int64"
      ]
     },
     "execution_count": 8,
     "metadata": {},
     "output_type": "execute_result"
    }
   ],
   "source": [
    "dataset.nunique()"
   ]
  },
  {
   "cell_type": "code",
   "execution_count": 9,
   "metadata": {},
   "outputs": [
    {
     "data": {
      "text/html": [
       "<div>\n",
       "<style scoped>\n",
       "    .dataframe tbody tr th:only-of-type {\n",
       "        vertical-align: middle;\n",
       "    }\n",
       "\n",
       "    .dataframe tbody tr th {\n",
       "        vertical-align: top;\n",
       "    }\n",
       "\n",
       "    .dataframe thead th {\n",
       "        text-align: right;\n",
       "    }\n",
       "</style>\n",
       "<table border=\"1\" class=\"dataframe\">\n",
       "  <thead>\n",
       "    <tr style=\"text-align: right;\">\n",
       "      <th></th>\n",
       "      <th>noOfComments</th>\n",
       "      <th>noOfevents</th>\n",
       "      <th>noOfDevelopers</th>\n",
       "      <th>sameBugFixTimeClass</th>\n",
       "      <th>timeToFixClass</th>\n",
       "    </tr>\n",
       "  </thead>\n",
       "  <tbody>\n",
       "    <tr>\n",
       "      <th>count</th>\n",
       "      <td>1001.000000</td>\n",
       "      <td>1001.000000</td>\n",
       "      <td>1001.000000</td>\n",
       "      <td>1001.000000</td>\n",
       "      <td>1001.000000</td>\n",
       "    </tr>\n",
       "    <tr>\n",
       "      <th>mean</th>\n",
       "      <td>4.130869</td>\n",
       "      <td>15.035964</td>\n",
       "      <td>5.185814</td>\n",
       "      <td>2.525475</td>\n",
       "      <td>2.504496</td>\n",
       "    </tr>\n",
       "    <tr>\n",
       "      <th>std</th>\n",
       "      <td>5.449023</td>\n",
       "      <td>6.619721</td>\n",
       "      <td>2.361237</td>\n",
       "      <td>1.658192</td>\n",
       "      <td>1.678163</td>\n",
       "    </tr>\n",
       "    <tr>\n",
       "      <th>min</th>\n",
       "      <td>0.000000</td>\n",
       "      <td>3.000000</td>\n",
       "      <td>1.000000</td>\n",
       "      <td>1.000000</td>\n",
       "      <td>1.000000</td>\n",
       "    </tr>\n",
       "    <tr>\n",
       "      <th>25%</th>\n",
       "      <td>1.000000</td>\n",
       "      <td>10.000000</td>\n",
       "      <td>4.000000</td>\n",
       "      <td>1.000000</td>\n",
       "      <td>1.000000</td>\n",
       "    </tr>\n",
       "    <tr>\n",
       "      <th>50%</th>\n",
       "      <td>3.000000</td>\n",
       "      <td>13.000000</td>\n",
       "      <td>5.000000</td>\n",
       "      <td>2.000000</td>\n",
       "      <td>2.000000</td>\n",
       "    </tr>\n",
       "    <tr>\n",
       "      <th>75%</th>\n",
       "      <td>5.000000</td>\n",
       "      <td>19.000000</td>\n",
       "      <td>6.000000</td>\n",
       "      <td>4.000000</td>\n",
       "      <td>4.000000</td>\n",
       "    </tr>\n",
       "    <tr>\n",
       "      <th>max</th>\n",
       "      <td>70.000000</td>\n",
       "      <td>30.000000</td>\n",
       "      <td>29.000000</td>\n",
       "      <td>6.000000</td>\n",
       "      <td>6.000000</td>\n",
       "    </tr>\n",
       "  </tbody>\n",
       "</table>\n",
       "</div>"
      ],
      "text/plain": [
       "       noOfComments   noOfevents  noOfDevelopers  sameBugFixTimeClass  \\\n",
       "count   1001.000000  1001.000000     1001.000000          1001.000000   \n",
       "mean       4.130869    15.035964        5.185814             2.525475   \n",
       "std        5.449023     6.619721        2.361237             1.658192   \n",
       "min        0.000000     3.000000        1.000000             1.000000   \n",
       "25%        1.000000    10.000000        4.000000             1.000000   \n",
       "50%        3.000000    13.000000        5.000000             2.000000   \n",
       "75%        5.000000    19.000000        6.000000             4.000000   \n",
       "max       70.000000    30.000000       29.000000             6.000000   \n",
       "\n",
       "       timeToFixClass  \n",
       "count     1001.000000  \n",
       "mean         2.504496  \n",
       "std          1.678163  \n",
       "min          1.000000  \n",
       "25%          1.000000  \n",
       "50%          2.000000  \n",
       "75%          4.000000  \n",
       "max          6.000000  "
      ]
     },
     "execution_count": 9,
     "metadata": {},
     "output_type": "execute_result"
    }
   ],
   "source": [
    "dataset.describe()"
   ]
  },
  {
   "cell_type": "code",
   "execution_count": 10,
   "metadata": {},
   "outputs": [
    {
     "data": {
      "text/plain": [
       "(0.0, 15.0)"
      ]
     },
     "execution_count": 10,
     "metadata": {},
     "output_type": "execute_result"
    }
   ],
   "source": [
    "min_threshold, max_threshold=dataset.noOfComments.quantile([0.0,0.96])\n",
    "min_threshold , max_threshold"
   ]
  },
  {
   "cell_type": "code",
   "execution_count": 11,
   "metadata": {},
   "outputs": [
    {
     "data": {
      "text/plain": [
       "(40, 5)"
      ]
     },
     "execution_count": 11,
     "metadata": {},
     "output_type": "execute_result"
    }
   ],
   "source": [
    "dataset[dataset.noOfComments>max_threshold].shape"
   ]
  },
  {
   "cell_type": "code",
   "execution_count": 12,
   "metadata": {},
   "outputs": [],
   "source": [
    "dataset_filtered_comments=dataset[(dataset.noOfComments<max_threshold)]"
   ]
  },
  {
   "cell_type": "code",
   "execution_count": 13,
   "metadata": {},
   "outputs": [
    {
     "data": {
      "text/plain": [
       "(957, 5)"
      ]
     },
     "execution_count": 13,
     "metadata": {},
     "output_type": "execute_result"
    }
   ],
   "source": [
    "dataset_filtered_comments.shape"
   ]
  },
  {
   "cell_type": "code",
   "execution_count": 14,
   "metadata": {},
   "outputs": [
    {
     "data": {
      "text/plain": [
       "(6.0, 26.0)"
      ]
     },
     "execution_count": 14,
     "metadata": {},
     "output_type": "execute_result"
    }
   ],
   "source": [
    "min_threshold1, max_threshold1=dataset_filtered_comments.noOfevents.quantile([0.02,0.94])\n",
    "min_threshold1 , max_threshold1"
   ]
  },
  {
   "cell_type": "code",
   "execution_count": 15,
   "metadata": {},
   "outputs": [
    {
     "data": {
      "text/plain": [
       "(57, 5)"
      ]
     },
     "execution_count": 15,
     "metadata": {},
     "output_type": "execute_result"
    }
   ],
   "source": [
    "dataset_filtered_comments[dataset_filtered_comments.noOfevents>max_threshold1].shape"
   ]
  },
  {
   "cell_type": "code",
   "execution_count": 16,
   "metadata": {},
   "outputs": [],
   "source": [
    "dataset_filtered_events=dataset_filtered_comments[(dataset_filtered_comments.noOfevents<max_threshold1)]"
   ]
  },
  {
   "cell_type": "code",
   "execution_count": 17,
   "metadata": {},
   "outputs": [
    {
     "data": {
      "text/plain": [
       "(885, 5)"
      ]
     },
     "execution_count": 17,
     "metadata": {},
     "output_type": "execute_result"
    }
   ],
   "source": [
    "dataset_filtered_events.shape"
   ]
  },
  {
   "cell_type": "code",
   "execution_count": 18,
   "metadata": {},
   "outputs": [
    {
     "data": {
      "text/plain": [
       "(2.0, 8.0)"
      ]
     },
     "execution_count": 18,
     "metadata": {},
     "output_type": "execute_result"
    }
   ],
   "source": [
    "min_threshold2, max_threshold2=dataset_filtered_events.noOfDevelopers.quantile([0.02,0.95])\n",
    "min_threshold2 , max_threshold2"
   ]
  },
  {
   "cell_type": "code",
   "execution_count": 19,
   "metadata": {},
   "outputs": [
    {
     "data": {
      "text/plain": [
       "(30, 5)"
      ]
     },
     "execution_count": 19,
     "metadata": {},
     "output_type": "execute_result"
    }
   ],
   "source": [
    "dataset_filtered_events[dataset_filtered_events.noOfDevelopers>max_threshold2].shape"
   ]
  },
  {
   "cell_type": "code",
   "execution_count": 20,
   "metadata": {},
   "outputs": [],
   "source": [
    "dataset_filtered_all=dataset_filtered_events[(dataset_filtered_events.noOfDevelopers<max_threshold2)]"
   ]
  },
  {
   "cell_type": "code",
   "execution_count": 21,
   "metadata": {},
   "outputs": [
    {
     "data": {
      "text/plain": [
       "(821, 5)"
      ]
     },
     "execution_count": 21,
     "metadata": {},
     "output_type": "execute_result"
    }
   ],
   "source": [
    "dataset_filtered_all.shape"
   ]
  },
  {
   "cell_type": "code",
   "execution_count": 22,
   "metadata": {},
   "outputs": [
    {
     "data": {
      "text/html": [
       "<div>\n",
       "<style scoped>\n",
       "    .dataframe tbody tr th:only-of-type {\n",
       "        vertical-align: middle;\n",
       "    }\n",
       "\n",
       "    .dataframe tbody tr th {\n",
       "        vertical-align: top;\n",
       "    }\n",
       "\n",
       "    .dataframe thead th {\n",
       "        text-align: right;\n",
       "    }\n",
       "</style>\n",
       "<table border=\"1\" class=\"dataframe\">\n",
       "  <thead>\n",
       "    <tr style=\"text-align: right;\">\n",
       "      <th></th>\n",
       "      <th>noOfComments</th>\n",
       "      <th>noOfevents</th>\n",
       "      <th>noOfDevelopers</th>\n",
       "      <th>sameBugFixTimeClass</th>\n",
       "      <th>timeToFixClass</th>\n",
       "    </tr>\n",
       "  </thead>\n",
       "  <tbody>\n",
       "    <tr>\n",
       "      <th>1</th>\n",
       "      <td>0</td>\n",
       "      <td>6.0</td>\n",
       "      <td>4</td>\n",
       "      <td>3</td>\n",
       "      <td>1</td>\n",
       "    </tr>\n",
       "    <tr>\n",
       "      <th>3</th>\n",
       "      <td>0</td>\n",
       "      <td>8.0</td>\n",
       "      <td>2</td>\n",
       "      <td>1</td>\n",
       "      <td>1</td>\n",
       "    </tr>\n",
       "    <tr>\n",
       "      <th>4</th>\n",
       "      <td>5</td>\n",
       "      <td>14.0</td>\n",
       "      <td>5</td>\n",
       "      <td>1</td>\n",
       "      <td>1</td>\n",
       "    </tr>\n",
       "    <tr>\n",
       "      <th>5</th>\n",
       "      <td>2</td>\n",
       "      <td>8.0</td>\n",
       "      <td>3</td>\n",
       "      <td>1</td>\n",
       "      <td>1</td>\n",
       "    </tr>\n",
       "    <tr>\n",
       "      <th>6</th>\n",
       "      <td>0</td>\n",
       "      <td>13.0</td>\n",
       "      <td>4</td>\n",
       "      <td>1</td>\n",
       "      <td>1</td>\n",
       "    </tr>\n",
       "  </tbody>\n",
       "</table>\n",
       "</div>"
      ],
      "text/plain": [
       "   noOfComments  noOfevents  noOfDevelopers  sameBugFixTimeClass  \\\n",
       "1             0         6.0               4                    3   \n",
       "3             0         8.0               2                    1   \n",
       "4             5        14.0               5                    1   \n",
       "5             2         8.0               3                    1   \n",
       "6             0        13.0               4                    1   \n",
       "\n",
       "   timeToFixClass  \n",
       "1               1  \n",
       "3               1  \n",
       "4               1  \n",
       "5               1  \n",
       "6               1  "
      ]
     },
     "execution_count": 22,
     "metadata": {},
     "output_type": "execute_result"
    }
   ],
   "source": [
    "dataset_filtered_all.head()"
   ]
  },
  {
   "cell_type": "code",
   "execution_count": 23,
   "metadata": {},
   "outputs": [],
   "source": [
    "x=dataset_filtered_all.iloc[:,[0,1,2]].values\n",
    "x_col=dataset_filtered_all.iloc[:,[0,1,2]]\n",
    "y=dataset_filtered_all.iloc[:,[4]].values"
   ]
  },
  {
   "cell_type": "code",
   "execution_count": 24,
   "metadata": {},
   "outputs": [],
   "source": [
    "from sklearn.model_selection import train_test_split"
   ]
  },
  {
   "cell_type": "code",
   "execution_count": 25,
   "metadata": {},
   "outputs": [],
   "source": [
    "x_train,x_test,y_train,y_test=train_test_split(x,y,test_size=0.20,random_state=0)"
   ]
  },
  {
   "cell_type": "code",
   "execution_count": 26,
   "metadata": {},
   "outputs": [],
   "source": [
    "from sklearn.preprocessing import StandardScaler\n",
    "\n",
    "sc = StandardScaler()\n",
    "x_train = sc.fit_transform(x_train)\n",
    "x_test = sc.transform(x_test)"
   ]
  },
  {
   "cell_type": "code",
   "execution_count": 27,
   "metadata": {},
   "outputs": [],
   "source": [
    "from sklearn.svm import SVC\n",
    "model=SVC()"
   ]
  },
  {
   "cell_type": "code",
   "execution_count": 28,
   "metadata": {},
   "outputs": [
    {
     "name": "stderr",
     "output_type": "stream",
     "text": [
      "c:\\users\\hasanga karunadasa\\appdata\\local\\programs\\python\\python39\\lib\\site-packages\\sklearn\\utils\\validation.py:63: DataConversionWarning: A column-vector y was passed when a 1d array was expected. Please change the shape of y to (n_samples, ), for example using ravel().\n",
      "  return f(*args, **kwargs)\n"
     ]
    },
    {
     "data": {
      "text/plain": [
       "SVC()"
      ]
     },
     "execution_count": 28,
     "metadata": {},
     "output_type": "execute_result"
    }
   ],
   "source": [
    "model.fit(x_train, y_train)"
   ]
  },
  {
   "cell_type": "code",
   "execution_count": 29,
   "metadata": {},
   "outputs": [
    {
     "data": {
      "text/plain": [
       "0.503030303030303"
      ]
     },
     "execution_count": 29,
     "metadata": {},
     "output_type": "execute_result"
    }
   ],
   "source": [
    "model.score(x_test,y_test)"
   ]
  },
  {
   "cell_type": "markdown",
   "metadata": {},
   "source": [
    "<h1>Model Accuracy 50.3% </h1>"
   ]
  },
  {
   "cell_type": "code",
   "execution_count": 31,
   "metadata": {},
   "outputs": [
    {
     "name": "stderr",
     "output_type": "stream",
     "text": [
      "c:\\users\\hasanga karunadasa\\appdata\\local\\programs\\python\\python39\\lib\\site-packages\\sklearn\\utils\\validation.py:63: DataConversionWarning: A column-vector y was passed when a 1d array was expected. Please change the shape of y to (n_samples, ), for example using ravel().\n",
      "  return f(*args, **kwargs)\n"
     ]
    }
   ],
   "source": [
    "svclassifier = SVC()\n",
    "svclassifier.fit(x_train,y_train)\n",
    "y_pred = svclassifier.predict(x_test)"
   ]
  },
  {
   "cell_type": "code",
   "execution_count": 32,
   "metadata": {},
   "outputs": [
    {
     "name": "stdout",
     "output_type": "stream",
     "text": [
      "              precision    recall  f1-score   support\n",
      "\n",
      "           1       0.51      0.99      0.67        82\n",
      "           2       0.00      0.00      0.00        22\n",
      "           3       0.20      0.08      0.11        13\n",
      "           4       0.50      0.04      0.08        24\n",
      "           5       0.00      0.00      0.00        18\n",
      "           6       0.00      0.00      0.00         6\n",
      "\n",
      "    accuracy                           0.50       165\n",
      "   macro avg       0.20      0.18      0.14       165\n",
      "weighted avg       0.34      0.50      0.36       165\n",
      "\n"
     ]
    },
    {
     "name": "stderr",
     "output_type": "stream",
     "text": [
      "c:\\users\\hasanga karunadasa\\appdata\\local\\programs\\python\\python39\\lib\\site-packages\\sklearn\\metrics\\_classification.py:1248: UndefinedMetricWarning: Precision and F-score are ill-defined and being set to 0.0 in labels with no predicted samples. Use `zero_division` parameter to control this behavior.\n",
      "  _warn_prf(average, modifier, msg_start, len(result))\n",
      "c:\\users\\hasanga karunadasa\\appdata\\local\\programs\\python\\python39\\lib\\site-packages\\sklearn\\metrics\\_classification.py:1248: UndefinedMetricWarning: Precision and F-score are ill-defined and being set to 0.0 in labels with no predicted samples. Use `zero_division` parameter to control this behavior.\n",
      "  _warn_prf(average, modifier, msg_start, len(result))\n",
      "c:\\users\\hasanga karunadasa\\appdata\\local\\programs\\python\\python39\\lib\\site-packages\\sklearn\\metrics\\_classification.py:1248: UndefinedMetricWarning: Precision and F-score are ill-defined and being set to 0.0 in labels with no predicted samples. Use `zero_division` parameter to control this behavior.\n",
      "  _warn_prf(average, modifier, msg_start, len(result))\n"
     ]
    }
   ],
   "source": [
    "from sklearn.metrics import classification_report, confusion_matrix\n",
    "print(classification_report(y_test,y_pred))"
   ]
  },
  {
   "cell_type": "code",
   "execution_count": 33,
   "metadata": {},
   "outputs": [
    {
     "name": "stdout",
     "output_type": "stream",
     "text": [
      "[4]\n"
     ]
    }
   ],
   "source": [
    "x11=[[2,2,2]]\n",
    "y_pred11 = svclassifier.predict(x11)\n",
    "print(y_pred11)"
   ]
  },
  {
   "cell_type": "code",
   "execution_count": 34,
   "metadata": {},
   "outputs": [
    {
     "name": "stdout",
     "output_type": "stream",
     "text": [
      "[1 1 1 1 1 4]\n"
     ]
    }
   ],
   "source": [
    "datasetty=pd.read_csv(\"Book1.csv\")\n",
    "y_pred12 = svclassifier.predict(datasetty)\n",
    "print(y_pred12)"
   ]
  },
  {
   "cell_type": "code",
   "execution_count": null,
   "metadata": {},
   "outputs": [],
   "source": []
  }
 ],
 "metadata": {
  "kernelspec": {
   "display_name": "Python 3",
   "language": "python",
   "name": "python3"
  },
  "language_info": {
   "codemirror_mode": {
    "name": "ipython",
    "version": 3
   },
   "file_extension": ".py",
   "mimetype": "text/x-python",
   "name": "python",
   "nbconvert_exporter": "python",
   "pygments_lexer": "ipython3",
   "version": "3.9.5"
  }
 },
 "nbformat": 4,
 "nbformat_minor": 4
}
