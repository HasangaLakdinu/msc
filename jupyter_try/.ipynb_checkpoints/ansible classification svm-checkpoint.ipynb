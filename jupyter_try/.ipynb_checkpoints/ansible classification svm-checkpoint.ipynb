{
 "cells": [
  {
   "cell_type": "code",
   "execution_count": 1,
   "metadata": {},
   "outputs": [],
   "source": [
    "import numpy as np\n",
    "import matplotlib.pyplot as plt\n",
    "import pandas as pd"
   ]
  },
  {
   "cell_type": "code",
   "execution_count": 2,
   "metadata": {},
   "outputs": [],
   "source": [
    "dataset=pd.read_csv(\"ansiblecomplexclass.csv\")"
   ]
  },
  {
   "cell_type": "code",
   "execution_count": 3,
   "metadata": {},
   "outputs": [],
   "source": [
    "dataset.dropna(inplace=True)"
   ]
  },
  {
   "cell_type": "code",
   "execution_count": 4,
   "metadata": {},
   "outputs": [
    {
     "data": {
      "text/html": [
       "<div>\n",
       "<style scoped>\n",
       "    .dataframe tbody tr th:only-of-type {\n",
       "        vertical-align: middle;\n",
       "    }\n",
       "\n",
       "    .dataframe tbody tr th {\n",
       "        vertical-align: top;\n",
       "    }\n",
       "\n",
       "    .dataframe thead th {\n",
       "        text-align: right;\n",
       "    }\n",
       "</style>\n",
       "<table border=\"1\" class=\"dataframe\">\n",
       "  <thead>\n",
       "    <tr style=\"text-align: right;\">\n",
       "      <th></th>\n",
       "      <th>noOfComments</th>\n",
       "      <th>bodyLength</th>\n",
       "      <th>bodyContent</th>\n",
       "      <th>AnsibleVersion</th>\n",
       "      <th>commentsSentimentValue</th>\n",
       "      <th>noOfevents</th>\n",
       "      <th>filteredUsers</th>\n",
       "      <th>noOfDevelopers</th>\n",
       "      <th>bugAuthor</th>\n",
       "      <th>labels</th>\n",
       "      <th>sameBugFixTime</th>\n",
       "      <th>timeToFix</th>\n",
       "      <th>sameBugFixTimeClass</th>\n",
       "      <th>timeToFixClass</th>\n",
       "    </tr>\n",
       "  </thead>\n",
       "  <tbody>\n",
       "    <tr>\n",
       "      <th>0</th>\n",
       "      <td>2</td>\n",
       "      <td>4300</td>\n",
       "      <td>Unable to create KVM VMs by using proxmox_kvm ...</td>\n",
       "      <td>2.9</td>\n",
       "      <td>-0.937</td>\n",
       "      <td>6.0</td>\n",
       "      <td>mkrizek</td>\n",
       "      <td>1</td>\n",
       "      <td>hads0m</td>\n",
       "      <td>affects_2.9,bug,support:core</td>\n",
       "      <td>0.330278</td>\n",
       "      <td>0.736944</td>\n",
       "      <td>1</td>\n",
       "      <td>1</td>\n",
       "    </tr>\n",
       "    <tr>\n",
       "      <th>1</th>\n",
       "      <td>2</td>\n",
       "      <td>521</td>\n",
       "      <td>Ansible ping unable to SSH to target host met ...</td>\n",
       "      <td>2.1</td>\n",
       "      <td>13.106</td>\n",
       "      <td>8.0</td>\n",
       "      <td>mkrizek</td>\n",
       "      <td>1</td>\n",
       "      <td>Ethns</td>\n",
       "      <td>affects_2.1,bug,module,support:core,system</td>\n",
       "      <td>14.095556</td>\n",
       "      <td>0.198056</td>\n",
       "      <td>1</td>\n",
       "      <td>1</td>\n",
       "    </tr>\n",
       "    <tr>\n",
       "      <th>2</th>\n",
       "      <td>0</td>\n",
       "      <td>861</td>\n",
       "      <td>[stable-2.8] Fix ansible-test handling of user...</td>\n",
       "      <td>2.8</td>\n",
       "      <td>0.000</td>\n",
       "      <td>15.0</td>\n",
       "      <td>mattclay,relrod</td>\n",
       "      <td>2</td>\n",
       "      <td>mattclay</td>\n",
       "      <td>affects_2.8,backport,bug,core_review,support:c...</td>\n",
       "      <td>2.250278</td>\n",
       "      <td>2.296389</td>\n",
       "      <td>1</td>\n",
       "      <td>1</td>\n",
       "    </tr>\n",
       "    <tr>\n",
       "      <th>3</th>\n",
       "      <td>0</td>\n",
       "      <td>861</td>\n",
       "      <td>[stable-2.9] Fix ansible-test handling of user...</td>\n",
       "      <td>2.9</td>\n",
       "      <td>0.000</td>\n",
       "      <td>19.0</td>\n",
       "      <td>mattclay</td>\n",
       "      <td>1</td>\n",
       "      <td>mattclay</td>\n",
       "      <td>affects_2.9,backport,bug,cloud,core_review,cry...</td>\n",
       "      <td>2.296389</td>\n",
       "      <td>2.250278</td>\n",
       "      <td>1</td>\n",
       "      <td>1</td>\n",
       "    </tr>\n",
       "    <tr>\n",
       "      <th>4</th>\n",
       "      <td>0</td>\n",
       "      <td>861</td>\n",
       "      <td>[stable-2.10] Fix ansible-test handling of use...</td>\n",
       "      <td>2.1</td>\n",
       "      <td>0.000</td>\n",
       "      <td>15.0</td>\n",
       "      <td>mattclay</td>\n",
       "      <td>1</td>\n",
       "      <td>mattclay</td>\n",
       "      <td>affects_2.10,backport,bug,cloud,core_review,cr...</td>\n",
       "      <td>2.250278</td>\n",
       "      <td>2.330556</td>\n",
       "      <td>1</td>\n",
       "      <td>1</td>\n",
       "    </tr>\n",
       "  </tbody>\n",
       "</table>\n",
       "</div>"
      ],
      "text/plain": [
       "   noOfComments  bodyLength  \\\n",
       "0             2        4300   \n",
       "1             2         521   \n",
       "2             0         861   \n",
       "3             0         861   \n",
       "4             0         861   \n",
       "\n",
       "                                         bodyContent AnsibleVersion  \\\n",
       "0  Unable to create KVM VMs by using proxmox_kvm ...            2.9   \n",
       "1  Ansible ping unable to SSH to target host met ...            2.1   \n",
       "2  [stable-2.8] Fix ansible-test handling of user...            2.8   \n",
       "3  [stable-2.9] Fix ansible-test handling of user...            2.9   \n",
       "4  [stable-2.10] Fix ansible-test handling of use...            2.1   \n",
       "\n",
       "   commentsSentimentValue  noOfevents    filteredUsers  noOfDevelopers  \\\n",
       "0                  -0.937         6.0          mkrizek               1   \n",
       "1                  13.106         8.0          mkrizek               1   \n",
       "2                   0.000        15.0  mattclay,relrod               2   \n",
       "3                   0.000        19.0         mattclay               1   \n",
       "4                   0.000        15.0         mattclay               1   \n",
       "\n",
       "  bugAuthor                                             labels  \\\n",
       "0    hads0m                       affects_2.9,bug,support:core   \n",
       "1     Ethns         affects_2.1,bug,module,support:core,system   \n",
       "2  mattclay  affects_2.8,backport,bug,core_review,support:c...   \n",
       "3  mattclay  affects_2.9,backport,bug,cloud,core_review,cry...   \n",
       "4  mattclay  affects_2.10,backport,bug,cloud,core_review,cr...   \n",
       "\n",
       "   sameBugFixTime  timeToFix  sameBugFixTimeClass  timeToFixClass  \n",
       "0        0.330278   0.736944                    1               1  \n",
       "1       14.095556   0.198056                    1               1  \n",
       "2        2.250278   2.296389                    1               1  \n",
       "3        2.296389   2.250278                    1               1  \n",
       "4        2.250278   2.330556                    1               1  "
      ]
     },
     "execution_count": 4,
     "metadata": {},
     "output_type": "execute_result"
    }
   ],
   "source": [
    "dataset.head()"
   ]
  },
  {
   "cell_type": "code",
   "execution_count": 5,
   "metadata": {},
   "outputs": [],
   "source": [
    "dataset=dataset.drop(['bodyContent','bodyLength','filteredUsers','labels','bugAuthor','commentsSentimentValue','sameBugFixTime','timeToFix'],axis=1)"
   ]
  },
  {
   "cell_type": "code",
   "execution_count": 6,
   "metadata": {},
   "outputs": [
    {
     "data": {
      "text/plain": [
       "(1049, 6)"
      ]
     },
     "execution_count": 6,
     "metadata": {},
     "output_type": "execute_result"
    }
   ],
   "source": [
    "dataset.shape"
   ]
  },
  {
   "cell_type": "code",
   "execution_count": 7,
   "metadata": {},
   "outputs": [
    {
     "data": {
      "text/html": [
       "<div>\n",
       "<style scoped>\n",
       "    .dataframe tbody tr th:only-of-type {\n",
       "        vertical-align: middle;\n",
       "    }\n",
       "\n",
       "    .dataframe tbody tr th {\n",
       "        vertical-align: top;\n",
       "    }\n",
       "\n",
       "    .dataframe thead th {\n",
       "        text-align: right;\n",
       "    }\n",
       "</style>\n",
       "<table border=\"1\" class=\"dataframe\">\n",
       "  <thead>\n",
       "    <tr style=\"text-align: right;\">\n",
       "      <th></th>\n",
       "      <th>noOfComments</th>\n",
       "      <th>AnsibleVersion</th>\n",
       "      <th>noOfevents</th>\n",
       "      <th>noOfDevelopers</th>\n",
       "      <th>sameBugFixTimeClass</th>\n",
       "      <th>timeToFixClass</th>\n",
       "    </tr>\n",
       "  </thead>\n",
       "  <tbody>\n",
       "    <tr>\n",
       "      <th>0</th>\n",
       "      <td>2</td>\n",
       "      <td>2.9</td>\n",
       "      <td>6.0</td>\n",
       "      <td>1</td>\n",
       "      <td>1</td>\n",
       "      <td>1</td>\n",
       "    </tr>\n",
       "    <tr>\n",
       "      <th>1</th>\n",
       "      <td>2</td>\n",
       "      <td>2.1</td>\n",
       "      <td>8.0</td>\n",
       "      <td>1</td>\n",
       "      <td>1</td>\n",
       "      <td>1</td>\n",
       "    </tr>\n",
       "    <tr>\n",
       "      <th>2</th>\n",
       "      <td>0</td>\n",
       "      <td>2.8</td>\n",
       "      <td>15.0</td>\n",
       "      <td>2</td>\n",
       "      <td>1</td>\n",
       "      <td>1</td>\n",
       "    </tr>\n",
       "    <tr>\n",
       "      <th>3</th>\n",
       "      <td>0</td>\n",
       "      <td>2.9</td>\n",
       "      <td>19.0</td>\n",
       "      <td>1</td>\n",
       "      <td>1</td>\n",
       "      <td>1</td>\n",
       "    </tr>\n",
       "    <tr>\n",
       "      <th>4</th>\n",
       "      <td>0</td>\n",
       "      <td>2.1</td>\n",
       "      <td>15.0</td>\n",
       "      <td>1</td>\n",
       "      <td>1</td>\n",
       "      <td>1</td>\n",
       "    </tr>\n",
       "  </tbody>\n",
       "</table>\n",
       "</div>"
      ],
      "text/plain": [
       "   noOfComments AnsibleVersion  noOfevents  noOfDevelopers  \\\n",
       "0             2            2.9         6.0               1   \n",
       "1             2            2.1         8.0               1   \n",
       "2             0            2.8        15.0               2   \n",
       "3             0            2.9        19.0               1   \n",
       "4             0            2.1        15.0               1   \n",
       "\n",
       "   sameBugFixTimeClass  timeToFixClass  \n",
       "0                    1               1  \n",
       "1                    1               1  \n",
       "2                    1               1  \n",
       "3                    1               1  \n",
       "4                    1               1  "
      ]
     },
     "execution_count": 7,
     "metadata": {},
     "output_type": "execute_result"
    }
   ],
   "source": [
    "dataset.head()"
   ]
  },
  {
   "cell_type": "code",
   "execution_count": 8,
   "metadata": {},
   "outputs": [
    {
     "data": {
      "text/plain": [
       "noOfComments           24\n",
       "AnsibleVersion         12\n",
       "noOfevents             25\n",
       "noOfDevelopers         11\n",
       "sameBugFixTimeClass     6\n",
       "timeToFixClass          6\n",
       "dtype: int64"
      ]
     },
     "execution_count": 8,
     "metadata": {},
     "output_type": "execute_result"
    }
   ],
   "source": [
    "dataset.nunique()"
   ]
  },
  {
   "cell_type": "code",
   "execution_count": 9,
   "metadata": {},
   "outputs": [
    {
     "data": {
      "text/html": [
       "<div>\n",
       "<style scoped>\n",
       "    .dataframe tbody tr th:only-of-type {\n",
       "        vertical-align: middle;\n",
       "    }\n",
       "\n",
       "    .dataframe tbody tr th {\n",
       "        vertical-align: top;\n",
       "    }\n",
       "\n",
       "    .dataframe thead th {\n",
       "        text-align: right;\n",
       "    }\n",
       "</style>\n",
       "<table border=\"1\" class=\"dataframe\">\n",
       "  <thead>\n",
       "    <tr style=\"text-align: right;\">\n",
       "      <th></th>\n",
       "      <th>noOfComments</th>\n",
       "      <th>noOfevents</th>\n",
       "      <th>noOfDevelopers</th>\n",
       "      <th>sameBugFixTimeClass</th>\n",
       "      <th>timeToFixClass</th>\n",
       "    </tr>\n",
       "  </thead>\n",
       "  <tbody>\n",
       "    <tr>\n",
       "      <th>count</th>\n",
       "      <td>1049.000000</td>\n",
       "      <td>1049.000000</td>\n",
       "      <td>1049.000000</td>\n",
       "      <td>1049.000000</td>\n",
       "      <td>1049.000000</td>\n",
       "    </tr>\n",
       "    <tr>\n",
       "      <th>mean</th>\n",
       "      <td>2.360343</td>\n",
       "      <td>16.459485</td>\n",
       "      <td>3.571020</td>\n",
       "      <td>2.115348</td>\n",
       "      <td>2.102955</td>\n",
       "    </tr>\n",
       "    <tr>\n",
       "      <th>std</th>\n",
       "      <td>3.043544</td>\n",
       "      <td>6.277043</td>\n",
       "      <td>1.451164</td>\n",
       "      <td>1.369321</td>\n",
       "      <td>1.406392</td>\n",
       "    </tr>\n",
       "    <tr>\n",
       "      <th>min</th>\n",
       "      <td>0.000000</td>\n",
       "      <td>6.000000</td>\n",
       "      <td>1.000000</td>\n",
       "      <td>1.000000</td>\n",
       "      <td>1.000000</td>\n",
       "    </tr>\n",
       "    <tr>\n",
       "      <th>25%</th>\n",
       "      <td>0.000000</td>\n",
       "      <td>12.000000</td>\n",
       "      <td>3.000000</td>\n",
       "      <td>1.000000</td>\n",
       "      <td>1.000000</td>\n",
       "    </tr>\n",
       "    <tr>\n",
       "      <th>50%</th>\n",
       "      <td>2.000000</td>\n",
       "      <td>15.000000</td>\n",
       "      <td>3.000000</td>\n",
       "      <td>1.000000</td>\n",
       "      <td>1.000000</td>\n",
       "    </tr>\n",
       "    <tr>\n",
       "      <th>75%</th>\n",
       "      <td>3.000000</td>\n",
       "      <td>20.000000</td>\n",
       "      <td>4.000000</td>\n",
       "      <td>3.000000</td>\n",
       "      <td>3.000000</td>\n",
       "    </tr>\n",
       "    <tr>\n",
       "      <th>max</th>\n",
       "      <td>37.000000</td>\n",
       "      <td>30.000000</td>\n",
       "      <td>11.000000</td>\n",
       "      <td>6.000000</td>\n",
       "      <td>6.000000</td>\n",
       "    </tr>\n",
       "  </tbody>\n",
       "</table>\n",
       "</div>"
      ],
      "text/plain": [
       "       noOfComments   noOfevents  noOfDevelopers  sameBugFixTimeClass  \\\n",
       "count   1049.000000  1049.000000     1049.000000          1049.000000   \n",
       "mean       2.360343    16.459485        3.571020             2.115348   \n",
       "std        3.043544     6.277043        1.451164             1.369321   \n",
       "min        0.000000     6.000000        1.000000             1.000000   \n",
       "25%        0.000000    12.000000        3.000000             1.000000   \n",
       "50%        2.000000    15.000000        3.000000             1.000000   \n",
       "75%        3.000000    20.000000        4.000000             3.000000   \n",
       "max       37.000000    30.000000       11.000000             6.000000   \n",
       "\n",
       "       timeToFixClass  \n",
       "count     1049.000000  \n",
       "mean         2.102955  \n",
       "std          1.406392  \n",
       "min          1.000000  \n",
       "25%          1.000000  \n",
       "50%          1.000000  \n",
       "75%          3.000000  \n",
       "max          6.000000  "
      ]
     },
     "execution_count": 9,
     "metadata": {},
     "output_type": "execute_result"
    }
   ],
   "source": [
    "dataset.describe()"
   ]
  },
  {
   "cell_type": "code",
   "execution_count": 10,
   "metadata": {},
   "outputs": [
    {
     "data": {
      "text/plain": [
       "(0.0, 8.0)"
      ]
     },
     "execution_count": 10,
     "metadata": {},
     "output_type": "execute_result"
    }
   ],
   "source": [
    "min_threshold, max_threshold=dataset.noOfComments.quantile([0.0,0.96])\n",
    "min_threshold , max_threshold"
   ]
  },
  {
   "cell_type": "code",
   "execution_count": 11,
   "metadata": {},
   "outputs": [
    {
     "data": {
      "text/plain": [
       "(30, 6)"
      ]
     },
     "execution_count": 11,
     "metadata": {},
     "output_type": "execute_result"
    }
   ],
   "source": [
    "dataset[dataset.noOfComments>max_threshold].shape"
   ]
  },
  {
   "cell_type": "code",
   "execution_count": 12,
   "metadata": {},
   "outputs": [],
   "source": [
    "dataset_filtered_comments=dataset[(dataset.noOfComments<max_threshold)]"
   ]
  },
  {
   "cell_type": "code",
   "execution_count": 13,
   "metadata": {},
   "outputs": [
    {
     "data": {
      "text/plain": [
       "(1003, 6)"
      ]
     },
     "execution_count": 13,
     "metadata": {},
     "output_type": "execute_result"
    }
   ],
   "source": [
    "dataset_filtered_comments.shape"
   ]
  },
  {
   "cell_type": "code",
   "execution_count": 14,
   "metadata": {},
   "outputs": [
    {
     "data": {
      "text/plain": [
       "(7.0, 29.0)"
      ]
     },
     "execution_count": 14,
     "metadata": {},
     "output_type": "execute_result"
    }
   ],
   "source": [
    "min_threshold1, max_threshold1=dataset_filtered_comments.noOfevents.quantile([0.02,0.94])\n",
    "min_threshold1 , max_threshold1"
   ]
  },
  {
   "cell_type": "code",
   "execution_count": 15,
   "metadata": {},
   "outputs": [
    {
     "data": {
      "text/plain": [
       "(60, 6)"
      ]
     },
     "execution_count": 15,
     "metadata": {},
     "output_type": "execute_result"
    }
   ],
   "source": [
    "dataset_filtered_comments[dataset_filtered_comments.noOfevents>max_threshold1].shape"
   ]
  },
  {
   "cell_type": "code",
   "execution_count": 16,
   "metadata": {},
   "outputs": [],
   "source": [
    "dataset_filtered_events=dataset_filtered_comments[(dataset_filtered_comments.noOfevents<max_threshold1)]"
   ]
  },
  {
   "cell_type": "code",
   "execution_count": 17,
   "metadata": {},
   "outputs": [
    {
     "data": {
      "text/plain": [
       "(934, 6)"
      ]
     },
     "execution_count": 17,
     "metadata": {},
     "output_type": "execute_result"
    }
   ],
   "source": [
    "dataset_filtered_events.shape"
   ]
  },
  {
   "cell_type": "code",
   "execution_count": 18,
   "metadata": {},
   "outputs": [
    {
     "data": {
      "text/plain": [
       "(1.0, 6.0)"
      ]
     },
     "execution_count": 18,
     "metadata": {},
     "output_type": "execute_result"
    }
   ],
   "source": [
    "min_threshold2, max_threshold2=dataset_filtered_events.noOfDevelopers.quantile([0.02,0.95])\n",
    "min_threshold2 , max_threshold2"
   ]
  },
  {
   "cell_type": "code",
   "execution_count": 19,
   "metadata": {},
   "outputs": [
    {
     "data": {
      "text/plain": [
       "(18, 6)"
      ]
     },
     "execution_count": 19,
     "metadata": {},
     "output_type": "execute_result"
    }
   ],
   "source": [
    "dataset_filtered_events[dataset_filtered_events.noOfDevelopers>max_threshold2].shape"
   ]
  },
  {
   "cell_type": "code",
   "execution_count": 20,
   "metadata": {},
   "outputs": [],
   "source": [
    "dataset_filtered_all=dataset_filtered_events[(dataset_filtered_events.noOfDevelopers<max_threshold2)]"
   ]
  },
  {
   "cell_type": "code",
   "execution_count": 21,
   "metadata": {},
   "outputs": [
    {
     "data": {
      "text/plain": [
       "(877, 6)"
      ]
     },
     "execution_count": 21,
     "metadata": {},
     "output_type": "execute_result"
    }
   ],
   "source": [
    "dataset_filtered_all.shape"
   ]
  },
  {
   "cell_type": "code",
   "execution_count": 23,
   "metadata": {},
   "outputs": [
    {
     "data": {
      "text/html": [
       "<div>\n",
       "<style scoped>\n",
       "    .dataframe tbody tr th:only-of-type {\n",
       "        vertical-align: middle;\n",
       "    }\n",
       "\n",
       "    .dataframe tbody tr th {\n",
       "        vertical-align: top;\n",
       "    }\n",
       "\n",
       "    .dataframe thead th {\n",
       "        text-align: right;\n",
       "    }\n",
       "</style>\n",
       "<table border=\"1\" class=\"dataframe\">\n",
       "  <thead>\n",
       "    <tr style=\"text-align: right;\">\n",
       "      <th></th>\n",
       "      <th>noOfComments</th>\n",
       "      <th>AnsibleVersion</th>\n",
       "      <th>noOfevents</th>\n",
       "      <th>noOfDevelopers</th>\n",
       "      <th>sameBugFixTimeClass</th>\n",
       "      <th>timeToFixClass</th>\n",
       "    </tr>\n",
       "  </thead>\n",
       "  <tbody>\n",
       "    <tr>\n",
       "      <th>0</th>\n",
       "      <td>2</td>\n",
       "      <td>2.9</td>\n",
       "      <td>6.0</td>\n",
       "      <td>1</td>\n",
       "      <td>1</td>\n",
       "      <td>1</td>\n",
       "    </tr>\n",
       "    <tr>\n",
       "      <th>1</th>\n",
       "      <td>2</td>\n",
       "      <td>2.1</td>\n",
       "      <td>8.0</td>\n",
       "      <td>1</td>\n",
       "      <td>1</td>\n",
       "      <td>1</td>\n",
       "    </tr>\n",
       "    <tr>\n",
       "      <th>2</th>\n",
       "      <td>0</td>\n",
       "      <td>2.8</td>\n",
       "      <td>15.0</td>\n",
       "      <td>2</td>\n",
       "      <td>1</td>\n",
       "      <td>1</td>\n",
       "    </tr>\n",
       "    <tr>\n",
       "      <th>3</th>\n",
       "      <td>0</td>\n",
       "      <td>2.9</td>\n",
       "      <td>19.0</td>\n",
       "      <td>1</td>\n",
       "      <td>1</td>\n",
       "      <td>1</td>\n",
       "    </tr>\n",
       "    <tr>\n",
       "      <th>4</th>\n",
       "      <td>0</td>\n",
       "      <td>2.1</td>\n",
       "      <td>15.0</td>\n",
       "      <td>1</td>\n",
       "      <td>1</td>\n",
       "      <td>1</td>\n",
       "    </tr>\n",
       "  </tbody>\n",
       "</table>\n",
       "</div>"
      ],
      "text/plain": [
       "   noOfComments AnsibleVersion  noOfevents  noOfDevelopers  \\\n",
       "0             2            2.9         6.0               1   \n",
       "1             2            2.1         8.0               1   \n",
       "2             0            2.8        15.0               2   \n",
       "3             0            2.9        19.0               1   \n",
       "4             0            2.1        15.0               1   \n",
       "\n",
       "   sameBugFixTimeClass  timeToFixClass  \n",
       "0                    1               1  \n",
       "1                    1               1  \n",
       "2                    1               1  \n",
       "3                    1               1  \n",
       "4                    1               1  "
      ]
     },
     "execution_count": 23,
     "metadata": {},
     "output_type": "execute_result"
    }
   ],
   "source": [
    "dataset_filtered_all.head()"
   ]
  },
  {
   "cell_type": "code",
   "execution_count": 24,
   "metadata": {},
   "outputs": [],
   "source": [
    "x=dataset_filtered_all.iloc[:,[0,2,3,4]].values\n",
    "x_col=dataset_filtered_all.iloc[:,[0,2,3,4]]\n",
    "y=dataset_filtered_all.iloc[:,[5]].values"
   ]
  },
  {
   "cell_type": "code",
   "execution_count": 25,
   "metadata": {},
   "outputs": [],
   "source": [
    "from sklearn.model_selection import train_test_split"
   ]
  },
  {
   "cell_type": "code",
   "execution_count": 26,
   "metadata": {},
   "outputs": [],
   "source": [
    "x_train,x_test,y_train,y_test=train_test_split(x,y,test_size=0.20,random_state=0)"
   ]
  },
  {
   "cell_type": "code",
   "execution_count": 27,
   "metadata": {},
   "outputs": [],
   "source": [
    "from sklearn.preprocessing import StandardScaler\n",
    "\n",
    "sc = StandardScaler()\n",
    "x_train = sc.fit_transform(x_train)\n",
    "x_test = sc.transform(x_test)"
   ]
  },
  {
   "cell_type": "code",
   "execution_count": 28,
   "metadata": {},
   "outputs": [],
   "source": [
    "from sklearn.svm import SVC\n",
    "model=SVC()"
   ]
  },
  {
   "cell_type": "code",
   "execution_count": 29,
   "metadata": {},
   "outputs": [
    {
     "name": "stderr",
     "output_type": "stream",
     "text": [
      "c:\\users\\asus\\appdata\\local\\programs\\python\\python36\\lib\\site-packages\\sklearn\\utils\\validation.py:578: DataConversionWarning: A column-vector y was passed when a 1d array was expected. Please change the shape of y to (n_samples, ), for example using ravel().\n",
      "  y = column_or_1d(y, warn=True)\n"
     ]
    },
    {
     "data": {
      "text/plain": [
       "SVC(C=1.0, cache_size=200, class_weight=None, coef0=0.0,\n",
       "  decision_function_shape='ovr', degree=3, gamma='auto', kernel='rbf',\n",
       "  max_iter=-1, probability=False, random_state=None, shrinking=True,\n",
       "  tol=0.001, verbose=False)"
      ]
     },
     "execution_count": 29,
     "metadata": {},
     "output_type": "execute_result"
    }
   ],
   "source": [
    "model.fit(x_train, y_train)"
   ]
  },
  {
   "cell_type": "code",
   "execution_count": 30,
   "metadata": {},
   "outputs": [
    {
     "data": {
      "text/plain": [
       "0.6136363636363636"
      ]
     },
     "execution_count": 30,
     "metadata": {},
     "output_type": "execute_result"
    }
   ],
   "source": [
    "model.score(x_test,y_test)"
   ]
  },
  {
   "cell_type": "markdown",
   "metadata": {},
   "source": [
    "<h1>Model Accuracy 61% </h1>"
   ]
  },
  {
   "cell_type": "code",
   "execution_count": null,
   "metadata": {},
   "outputs": [],
   "source": []
  }
 ],
 "metadata": {
  "kernelspec": {
   "display_name": "Python 3",
   "language": "python",
   "name": "python3"
  },
  "language_info": {
   "codemirror_mode": {
    "name": "ipython",
    "version": 3
   },
   "file_extension": ".py",
   "mimetype": "text/x-python",
   "name": "python",
   "nbconvert_exporter": "python",
   "pygments_lexer": "ipython3",
   "version": "3.6.2"
  }
 },
 "nbformat": 4,
 "nbformat_minor": 4
}
