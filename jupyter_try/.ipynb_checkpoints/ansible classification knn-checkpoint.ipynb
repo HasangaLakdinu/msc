{
 "cells": [
  {
   "cell_type": "code",
   "execution_count": 1,
   "metadata": {},
   "outputs": [],
   "source": [
    "import numpy as np\n",
    "import matplotlib.pyplot as plt\n",
    "import pandas as pd"
   ]
  },
  {
   "cell_type": "code",
   "execution_count": 2,
   "metadata": {},
   "outputs": [],
   "source": [
    "dataset=pd.read_csv(\"ansiblecomplexclass.csv\")"
   ]
  },
  {
   "cell_type": "code",
   "execution_count": 3,
   "metadata": {},
   "outputs": [],
   "source": [
    "dataset.dropna(inplace=True)"
   ]
  },
  {
   "cell_type": "code",
   "execution_count": 4,
   "metadata": {},
   "outputs": [
    {
     "data": {
      "text/html": [
       "<div>\n",
       "<style scoped>\n",
       "    .dataframe tbody tr th:only-of-type {\n",
       "        vertical-align: middle;\n",
       "    }\n",
       "\n",
       "    .dataframe tbody tr th {\n",
       "        vertical-align: top;\n",
       "    }\n",
       "\n",
       "    .dataframe thead th {\n",
       "        text-align: right;\n",
       "    }\n",
       "</style>\n",
       "<table border=\"1\" class=\"dataframe\">\n",
       "  <thead>\n",
       "    <tr style=\"text-align: right;\">\n",
       "      <th></th>\n",
       "      <th>noOfComments</th>\n",
       "      <th>bodyLength</th>\n",
       "      <th>bodyContent</th>\n",
       "      <th>AnsibleVersion</th>\n",
       "      <th>commentsSentimentValue</th>\n",
       "      <th>noOfevents</th>\n",
       "      <th>filteredUsers</th>\n",
       "      <th>noOfDevelopers</th>\n",
       "      <th>bugAuthor</th>\n",
       "      <th>labels</th>\n",
       "      <th>sameBugFixTime</th>\n",
       "      <th>timeToFix</th>\n",
       "      <th>sameBugFixTimeClass</th>\n",
       "      <th>timeToFixClass</th>\n",
       "    </tr>\n",
       "  </thead>\n",
       "  <tbody>\n",
       "    <tr>\n",
       "      <th>0</th>\n",
       "      <td>2</td>\n",
       "      <td>4300</td>\n",
       "      <td>Unable to create KVM VMs by using proxmox_kvm ...</td>\n",
       "      <td>2.9</td>\n",
       "      <td>-0.937</td>\n",
       "      <td>6.0</td>\n",
       "      <td>mkrizek</td>\n",
       "      <td>1</td>\n",
       "      <td>hads0m</td>\n",
       "      <td>affects_2.9,bug,support:core</td>\n",
       "      <td>0.330278</td>\n",
       "      <td>0.736944</td>\n",
       "      <td>1</td>\n",
       "      <td>1</td>\n",
       "    </tr>\n",
       "    <tr>\n",
       "      <th>1</th>\n",
       "      <td>2</td>\n",
       "      <td>521</td>\n",
       "      <td>Ansible ping unable to SSH to target host met ...</td>\n",
       "      <td>2.1</td>\n",
       "      <td>13.106</td>\n",
       "      <td>8.0</td>\n",
       "      <td>mkrizek</td>\n",
       "      <td>1</td>\n",
       "      <td>Ethns</td>\n",
       "      <td>affects_2.1,bug,module,support:core,system</td>\n",
       "      <td>14.095556</td>\n",
       "      <td>0.198056</td>\n",
       "      <td>1</td>\n",
       "      <td>1</td>\n",
       "    </tr>\n",
       "    <tr>\n",
       "      <th>2</th>\n",
       "      <td>0</td>\n",
       "      <td>861</td>\n",
       "      <td>[stable-2.8] Fix ansible-test handling of user...</td>\n",
       "      <td>2.8</td>\n",
       "      <td>0.000</td>\n",
       "      <td>15.0</td>\n",
       "      <td>mattclay,relrod</td>\n",
       "      <td>2</td>\n",
       "      <td>mattclay</td>\n",
       "      <td>affects_2.8,backport,bug,core_review,support:c...</td>\n",
       "      <td>2.250278</td>\n",
       "      <td>2.296389</td>\n",
       "      <td>1</td>\n",
       "      <td>1</td>\n",
       "    </tr>\n",
       "    <tr>\n",
       "      <th>3</th>\n",
       "      <td>0</td>\n",
       "      <td>861</td>\n",
       "      <td>[stable-2.9] Fix ansible-test handling of user...</td>\n",
       "      <td>2.9</td>\n",
       "      <td>0.000</td>\n",
       "      <td>19.0</td>\n",
       "      <td>mattclay</td>\n",
       "      <td>1</td>\n",
       "      <td>mattclay</td>\n",
       "      <td>affects_2.9,backport,bug,cloud,core_review,cry...</td>\n",
       "      <td>2.296389</td>\n",
       "      <td>2.250278</td>\n",
       "      <td>1</td>\n",
       "      <td>1</td>\n",
       "    </tr>\n",
       "    <tr>\n",
       "      <th>4</th>\n",
       "      <td>0</td>\n",
       "      <td>861</td>\n",
       "      <td>[stable-2.10] Fix ansible-test handling of use...</td>\n",
       "      <td>2.1</td>\n",
       "      <td>0.000</td>\n",
       "      <td>15.0</td>\n",
       "      <td>mattclay</td>\n",
       "      <td>1</td>\n",
       "      <td>mattclay</td>\n",
       "      <td>affects_2.10,backport,bug,cloud,core_review,cr...</td>\n",
       "      <td>2.250278</td>\n",
       "      <td>2.330556</td>\n",
       "      <td>1</td>\n",
       "      <td>1</td>\n",
       "    </tr>\n",
       "  </tbody>\n",
       "</table>\n",
       "</div>"
      ],
      "text/plain": [
       "   noOfComments  bodyLength  \\\n",
       "0             2        4300   \n",
       "1             2         521   \n",
       "2             0         861   \n",
       "3             0         861   \n",
       "4             0         861   \n",
       "\n",
       "                                         bodyContent AnsibleVersion  \\\n",
       "0  Unable to create KVM VMs by using proxmox_kvm ...            2.9   \n",
       "1  Ansible ping unable to SSH to target host met ...            2.1   \n",
       "2  [stable-2.8] Fix ansible-test handling of user...            2.8   \n",
       "3  [stable-2.9] Fix ansible-test handling of user...            2.9   \n",
       "4  [stable-2.10] Fix ansible-test handling of use...            2.1   \n",
       "\n",
       "   commentsSentimentValue  noOfevents    filteredUsers  noOfDevelopers  \\\n",
       "0                  -0.937         6.0          mkrizek               1   \n",
       "1                  13.106         8.0          mkrizek               1   \n",
       "2                   0.000        15.0  mattclay,relrod               2   \n",
       "3                   0.000        19.0         mattclay               1   \n",
       "4                   0.000        15.0         mattclay               1   \n",
       "\n",
       "  bugAuthor                                             labels  \\\n",
       "0    hads0m                       affects_2.9,bug,support:core   \n",
       "1     Ethns         affects_2.1,bug,module,support:core,system   \n",
       "2  mattclay  affects_2.8,backport,bug,core_review,support:c...   \n",
       "3  mattclay  affects_2.9,backport,bug,cloud,core_review,cry...   \n",
       "4  mattclay  affects_2.10,backport,bug,cloud,core_review,cr...   \n",
       "\n",
       "   sameBugFixTime  timeToFix  sameBugFixTimeClass  timeToFixClass  \n",
       "0        0.330278   0.736944                    1               1  \n",
       "1       14.095556   0.198056                    1               1  \n",
       "2        2.250278   2.296389                    1               1  \n",
       "3        2.296389   2.250278                    1               1  \n",
       "4        2.250278   2.330556                    1               1  "
      ]
     },
     "execution_count": 4,
     "metadata": {},
     "output_type": "execute_result"
    }
   ],
   "source": [
    "dataset.head()"
   ]
  },
  {
   "cell_type": "code",
   "execution_count": 5,
   "metadata": {},
   "outputs": [],
   "source": [
    "dataset=dataset.drop(['bodyContent','bodyLength','filteredUsers','labels','bugAuthor','commentsSentimentValue','sameBugFixTime','timeToFix'],axis=1)"
   ]
  },
  {
   "cell_type": "code",
   "execution_count": 6,
   "metadata": {},
   "outputs": [
    {
     "data": {
      "text/plain": [
       "(1049, 6)"
      ]
     },
     "execution_count": 6,
     "metadata": {},
     "output_type": "execute_result"
    }
   ],
   "source": [
    "dataset.shape"
   ]
  },
  {
   "cell_type": "code",
   "execution_count": 7,
   "metadata": {},
   "outputs": [
    {
     "data": {
      "text/html": [
       "<div>\n",
       "<style scoped>\n",
       "    .dataframe tbody tr th:only-of-type {\n",
       "        vertical-align: middle;\n",
       "    }\n",
       "\n",
       "    .dataframe tbody tr th {\n",
       "        vertical-align: top;\n",
       "    }\n",
       "\n",
       "    .dataframe thead th {\n",
       "        text-align: right;\n",
       "    }\n",
       "</style>\n",
       "<table border=\"1\" class=\"dataframe\">\n",
       "  <thead>\n",
       "    <tr style=\"text-align: right;\">\n",
       "      <th></th>\n",
       "      <th>noOfComments</th>\n",
       "      <th>AnsibleVersion</th>\n",
       "      <th>noOfevents</th>\n",
       "      <th>noOfDevelopers</th>\n",
       "      <th>sameBugFixTimeClass</th>\n",
       "      <th>timeToFixClass</th>\n",
       "    </tr>\n",
       "  </thead>\n",
       "  <tbody>\n",
       "    <tr>\n",
       "      <th>0</th>\n",
       "      <td>2</td>\n",
       "      <td>2.9</td>\n",
       "      <td>6.0</td>\n",
       "      <td>1</td>\n",
       "      <td>1</td>\n",
       "      <td>1</td>\n",
       "    </tr>\n",
       "    <tr>\n",
       "      <th>1</th>\n",
       "      <td>2</td>\n",
       "      <td>2.1</td>\n",
       "      <td>8.0</td>\n",
       "      <td>1</td>\n",
       "      <td>1</td>\n",
       "      <td>1</td>\n",
       "    </tr>\n",
       "    <tr>\n",
       "      <th>2</th>\n",
       "      <td>0</td>\n",
       "      <td>2.8</td>\n",
       "      <td>15.0</td>\n",
       "      <td>2</td>\n",
       "      <td>1</td>\n",
       "      <td>1</td>\n",
       "    </tr>\n",
       "    <tr>\n",
       "      <th>3</th>\n",
       "      <td>0</td>\n",
       "      <td>2.9</td>\n",
       "      <td>19.0</td>\n",
       "      <td>1</td>\n",
       "      <td>1</td>\n",
       "      <td>1</td>\n",
       "    </tr>\n",
       "    <tr>\n",
       "      <th>4</th>\n",
       "      <td>0</td>\n",
       "      <td>2.1</td>\n",
       "      <td>15.0</td>\n",
       "      <td>1</td>\n",
       "      <td>1</td>\n",
       "      <td>1</td>\n",
       "    </tr>\n",
       "  </tbody>\n",
       "</table>\n",
       "</div>"
      ],
      "text/plain": [
       "   noOfComments AnsibleVersion  noOfevents  noOfDevelopers  \\\n",
       "0             2            2.9         6.0               1   \n",
       "1             2            2.1         8.0               1   \n",
       "2             0            2.8        15.0               2   \n",
       "3             0            2.9        19.0               1   \n",
       "4             0            2.1        15.0               1   \n",
       "\n",
       "   sameBugFixTimeClass  timeToFixClass  \n",
       "0                    1               1  \n",
       "1                    1               1  \n",
       "2                    1               1  \n",
       "3                    1               1  \n",
       "4                    1               1  "
      ]
     },
     "execution_count": 7,
     "metadata": {},
     "output_type": "execute_result"
    }
   ],
   "source": [
    "dataset.head()"
   ]
  },
  {
   "cell_type": "code",
   "execution_count": 8,
   "metadata": {},
   "outputs": [
    {
     "data": {
      "text/plain": [
       "noOfComments           24\n",
       "AnsibleVersion         12\n",
       "noOfevents             25\n",
       "noOfDevelopers         11\n",
       "sameBugFixTimeClass     6\n",
       "timeToFixClass          6\n",
       "dtype: int64"
      ]
     },
     "execution_count": 8,
     "metadata": {},
     "output_type": "execute_result"
    }
   ],
   "source": [
    "dataset.nunique()"
   ]
  },
  {
   "cell_type": "code",
   "execution_count": 9,
   "metadata": {
    "scrolled": true
   },
   "outputs": [
    {
     "data": {
      "text/html": [
       "<div>\n",
       "<style scoped>\n",
       "    .dataframe tbody tr th:only-of-type {\n",
       "        vertical-align: middle;\n",
       "    }\n",
       "\n",
       "    .dataframe tbody tr th {\n",
       "        vertical-align: top;\n",
       "    }\n",
       "\n",
       "    .dataframe thead th {\n",
       "        text-align: right;\n",
       "    }\n",
       "</style>\n",
       "<table border=\"1\" class=\"dataframe\">\n",
       "  <thead>\n",
       "    <tr style=\"text-align: right;\">\n",
       "      <th></th>\n",
       "      <th>noOfComments</th>\n",
       "      <th>noOfevents</th>\n",
       "      <th>noOfDevelopers</th>\n",
       "      <th>sameBugFixTimeClass</th>\n",
       "      <th>timeToFixClass</th>\n",
       "    </tr>\n",
       "  </thead>\n",
       "  <tbody>\n",
       "    <tr>\n",
       "      <th>count</th>\n",
       "      <td>1049.000000</td>\n",
       "      <td>1049.000000</td>\n",
       "      <td>1049.000000</td>\n",
       "      <td>1049.000000</td>\n",
       "      <td>1049.000000</td>\n",
       "    </tr>\n",
       "    <tr>\n",
       "      <th>mean</th>\n",
       "      <td>2.360343</td>\n",
       "      <td>16.459485</td>\n",
       "      <td>3.571020</td>\n",
       "      <td>2.115348</td>\n",
       "      <td>2.102955</td>\n",
       "    </tr>\n",
       "    <tr>\n",
       "      <th>std</th>\n",
       "      <td>3.043544</td>\n",
       "      <td>6.277043</td>\n",
       "      <td>1.451164</td>\n",
       "      <td>1.369321</td>\n",
       "      <td>1.406392</td>\n",
       "    </tr>\n",
       "    <tr>\n",
       "      <th>min</th>\n",
       "      <td>0.000000</td>\n",
       "      <td>6.000000</td>\n",
       "      <td>1.000000</td>\n",
       "      <td>1.000000</td>\n",
       "      <td>1.000000</td>\n",
       "    </tr>\n",
       "    <tr>\n",
       "      <th>25%</th>\n",
       "      <td>0.000000</td>\n",
       "      <td>12.000000</td>\n",
       "      <td>3.000000</td>\n",
       "      <td>1.000000</td>\n",
       "      <td>1.000000</td>\n",
       "    </tr>\n",
       "    <tr>\n",
       "      <th>50%</th>\n",
       "      <td>2.000000</td>\n",
       "      <td>15.000000</td>\n",
       "      <td>3.000000</td>\n",
       "      <td>1.000000</td>\n",
       "      <td>1.000000</td>\n",
       "    </tr>\n",
       "    <tr>\n",
       "      <th>75%</th>\n",
       "      <td>3.000000</td>\n",
       "      <td>20.000000</td>\n",
       "      <td>4.000000</td>\n",
       "      <td>3.000000</td>\n",
       "      <td>3.000000</td>\n",
       "    </tr>\n",
       "    <tr>\n",
       "      <th>max</th>\n",
       "      <td>37.000000</td>\n",
       "      <td>30.000000</td>\n",
       "      <td>11.000000</td>\n",
       "      <td>6.000000</td>\n",
       "      <td>6.000000</td>\n",
       "    </tr>\n",
       "  </tbody>\n",
       "</table>\n",
       "</div>"
      ],
      "text/plain": [
       "       noOfComments   noOfevents  noOfDevelopers  sameBugFixTimeClass  \\\n",
       "count   1049.000000  1049.000000     1049.000000          1049.000000   \n",
       "mean       2.360343    16.459485        3.571020             2.115348   \n",
       "std        3.043544     6.277043        1.451164             1.369321   \n",
       "min        0.000000     6.000000        1.000000             1.000000   \n",
       "25%        0.000000    12.000000        3.000000             1.000000   \n",
       "50%        2.000000    15.000000        3.000000             1.000000   \n",
       "75%        3.000000    20.000000        4.000000             3.000000   \n",
       "max       37.000000    30.000000       11.000000             6.000000   \n",
       "\n",
       "       timeToFixClass  \n",
       "count     1049.000000  \n",
       "mean         2.102955  \n",
       "std          1.406392  \n",
       "min          1.000000  \n",
       "25%          1.000000  \n",
       "50%          1.000000  \n",
       "75%          3.000000  \n",
       "max          6.000000  "
      ]
     },
     "execution_count": 9,
     "metadata": {},
     "output_type": "execute_result"
    }
   ],
   "source": [
    "dataset.describe()"
   ]
  },
  {
   "cell_type": "markdown",
   "metadata": {},
   "source": []
  },
  {
   "cell_type": "code",
   "execution_count": 10,
   "metadata": {},
   "outputs": [
    {
     "data": {
      "text/plain": [
       "(0.0, 11.0)"
      ]
     },
     "execution_count": 10,
     "metadata": {},
     "output_type": "execute_result"
    }
   ],
   "source": [
    "min_threshold, max_threshold=dataset.noOfComments.quantile([0.02,0.98])\n",
    "min_threshold , max_threshold"
   ]
  },
  {
   "cell_type": "code",
   "execution_count": 11,
   "metadata": {},
   "outputs": [
    {
     "data": {
      "text/html": [
       "<div>\n",
       "<style scoped>\n",
       "    .dataframe tbody tr th:only-of-type {\n",
       "        vertical-align: middle;\n",
       "    }\n",
       "\n",
       "    .dataframe tbody tr th {\n",
       "        vertical-align: top;\n",
       "    }\n",
       "\n",
       "    .dataframe thead th {\n",
       "        text-align: right;\n",
       "    }\n",
       "</style>\n",
       "<table border=\"1\" class=\"dataframe\">\n",
       "  <thead>\n",
       "    <tr style=\"text-align: right;\">\n",
       "      <th></th>\n",
       "      <th>noOfComments</th>\n",
       "      <th>AnsibleVersion</th>\n",
       "      <th>noOfevents</th>\n",
       "      <th>noOfDevelopers</th>\n",
       "      <th>sameBugFixTimeClass</th>\n",
       "      <th>timeToFixClass</th>\n",
       "    </tr>\n",
       "  </thead>\n",
       "  <tbody>\n",
       "    <tr>\n",
       "      <th>188</th>\n",
       "      <td>13</td>\n",
       "      <td>2.9</td>\n",
       "      <td>20.0</td>\n",
       "      <td>4</td>\n",
       "      <td>1</td>\n",
       "      <td>2</td>\n",
       "    </tr>\n",
       "    <tr>\n",
       "      <th>198</th>\n",
       "      <td>12</td>\n",
       "      <td>2.11</td>\n",
       "      <td>30.0</td>\n",
       "      <td>2</td>\n",
       "      <td>1</td>\n",
       "      <td>5</td>\n",
       "    </tr>\n",
       "    <tr>\n",
       "      <th>199</th>\n",
       "      <td>13</td>\n",
       "      <td>2.11</td>\n",
       "      <td>30.0</td>\n",
       "      <td>1</td>\n",
       "      <td>1</td>\n",
       "      <td>5</td>\n",
       "    </tr>\n",
       "    <tr>\n",
       "      <th>246</th>\n",
       "      <td>14</td>\n",
       "      <td>2.9</td>\n",
       "      <td>28.0</td>\n",
       "      <td>4</td>\n",
       "      <td>2</td>\n",
       "      <td>5</td>\n",
       "    </tr>\n",
       "    <tr>\n",
       "      <th>269</th>\n",
       "      <td>23</td>\n",
       "      <td>2.11</td>\n",
       "      <td>14.0</td>\n",
       "      <td>4</td>\n",
       "      <td>2</td>\n",
       "      <td>5</td>\n",
       "    </tr>\n",
       "    <tr>\n",
       "      <th>376</th>\n",
       "      <td>15</td>\n",
       "      <td>2.9</td>\n",
       "      <td>16.0</td>\n",
       "      <td>5</td>\n",
       "      <td>1</td>\n",
       "      <td>3</td>\n",
       "    </tr>\n",
       "    <tr>\n",
       "      <th>385</th>\n",
       "      <td>12</td>\n",
       "      <td>2.9</td>\n",
       "      <td>30.0</td>\n",
       "      <td>7</td>\n",
       "      <td>2</td>\n",
       "      <td>3</td>\n",
       "    </tr>\n",
       "    <tr>\n",
       "      <th>420</th>\n",
       "      <td>29</td>\n",
       "      <td>2.9</td>\n",
       "      <td>20.0</td>\n",
       "      <td>5</td>\n",
       "      <td>2</td>\n",
       "      <td>2</td>\n",
       "    </tr>\n",
       "    <tr>\n",
       "      <th>434</th>\n",
       "      <td>15</td>\n",
       "      <td>2.11</td>\n",
       "      <td>30.0</td>\n",
       "      <td>4</td>\n",
       "      <td>2</td>\n",
       "      <td>4</td>\n",
       "    </tr>\n",
       "    <tr>\n",
       "      <th>535</th>\n",
       "      <td>16</td>\n",
       "      <td>2.9</td>\n",
       "      <td>23.0</td>\n",
       "      <td>7</td>\n",
       "      <td>1</td>\n",
       "      <td>3</td>\n",
       "    </tr>\n",
       "    <tr>\n",
       "      <th>645</th>\n",
       "      <td>12</td>\n",
       "      <td>2.11</td>\n",
       "      <td>30.0</td>\n",
       "      <td>3</td>\n",
       "      <td>1</td>\n",
       "      <td>5</td>\n",
       "    </tr>\n",
       "    <tr>\n",
       "      <th>732</th>\n",
       "      <td>19</td>\n",
       "      <td>2.11</td>\n",
       "      <td>30.0</td>\n",
       "      <td>6</td>\n",
       "      <td>1</td>\n",
       "      <td>4</td>\n",
       "    </tr>\n",
       "    <tr>\n",
       "      <th>746</th>\n",
       "      <td>21</td>\n",
       "      <td>2.11</td>\n",
       "      <td>30.0</td>\n",
       "      <td>10</td>\n",
       "      <td>1</td>\n",
       "      <td>3</td>\n",
       "    </tr>\n",
       "    <tr>\n",
       "      <th>778</th>\n",
       "      <td>12</td>\n",
       "      <td>2.11</td>\n",
       "      <td>30.0</td>\n",
       "      <td>2</td>\n",
       "      <td>2</td>\n",
       "      <td>4</td>\n",
       "    </tr>\n",
       "    <tr>\n",
       "      <th>824</th>\n",
       "      <td>12</td>\n",
       "      <td>2.9</td>\n",
       "      <td>10.0</td>\n",
       "      <td>6</td>\n",
       "      <td>1</td>\n",
       "      <td>5</td>\n",
       "    </tr>\n",
       "    <tr>\n",
       "      <th>826</th>\n",
       "      <td>14</td>\n",
       "      <td>2.11</td>\n",
       "      <td>30.0</td>\n",
       "      <td>5</td>\n",
       "      <td>1</td>\n",
       "      <td>5</td>\n",
       "    </tr>\n",
       "    <tr>\n",
       "      <th>841</th>\n",
       "      <td>37</td>\n",
       "      <td>2.11</td>\n",
       "      <td>30.0</td>\n",
       "      <td>6</td>\n",
       "      <td>2</td>\n",
       "      <td>6</td>\n",
       "    </tr>\n",
       "    <tr>\n",
       "      <th>998</th>\n",
       "      <td>24</td>\n",
       "      <td>2.9</td>\n",
       "      <td>26.0</td>\n",
       "      <td>9</td>\n",
       "      <td>1</td>\n",
       "      <td>6</td>\n",
       "    </tr>\n",
       "    <tr>\n",
       "      <th>1006</th>\n",
       "      <td>17</td>\n",
       "      <td>2.1</td>\n",
       "      <td>25.0</td>\n",
       "      <td>10</td>\n",
       "      <td>3</td>\n",
       "      <td>3</td>\n",
       "    </tr>\n",
       "    <tr>\n",
       "      <th>1050</th>\n",
       "      <td>13</td>\n",
       "      <td>2.9</td>\n",
       "      <td>30.0</td>\n",
       "      <td>6</td>\n",
       "      <td>2</td>\n",
       "      <td>4</td>\n",
       "    </tr>\n",
       "  </tbody>\n",
       "</table>\n",
       "</div>"
      ],
      "text/plain": [
       "      noOfComments AnsibleVersion  noOfevents  noOfDevelopers  \\\n",
       "188             13            2.9        20.0               4   \n",
       "198             12           2.11        30.0               2   \n",
       "199             13           2.11        30.0               1   \n",
       "246             14            2.9        28.0               4   \n",
       "269             23           2.11        14.0               4   \n",
       "376             15            2.9        16.0               5   \n",
       "385             12            2.9        30.0               7   \n",
       "420             29            2.9        20.0               5   \n",
       "434             15           2.11        30.0               4   \n",
       "535             16            2.9        23.0               7   \n",
       "645             12           2.11        30.0               3   \n",
       "732             19           2.11        30.0               6   \n",
       "746             21           2.11        30.0              10   \n",
       "778             12           2.11        30.0               2   \n",
       "824             12            2.9        10.0               6   \n",
       "826             14           2.11        30.0               5   \n",
       "841             37           2.11        30.0               6   \n",
       "998             24            2.9        26.0               9   \n",
       "1006            17            2.1        25.0              10   \n",
       "1050            13            2.9        30.0               6   \n",
       "\n",
       "      sameBugFixTimeClass  timeToFixClass  \n",
       "188                     1               2  \n",
       "198                     1               5  \n",
       "199                     1               5  \n",
       "246                     2               5  \n",
       "269                     2               5  \n",
       "376                     1               3  \n",
       "385                     2               3  \n",
       "420                     2               2  \n",
       "434                     2               4  \n",
       "535                     1               3  \n",
       "645                     1               5  \n",
       "732                     1               4  \n",
       "746                     1               3  \n",
       "778                     2               4  \n",
       "824                     1               5  \n",
       "826                     1               5  \n",
       "841                     2               6  \n",
       "998                     1               6  \n",
       "1006                    3               3  \n",
       "1050                    2               4  "
      ]
     },
     "execution_count": 11,
     "metadata": {},
     "output_type": "execute_result"
    }
   ],
   "source": [
    "dataset[dataset.noOfComments>max_threshold]"
   ]
  },
  {
   "cell_type": "code",
   "execution_count": 12,
   "metadata": {},
   "outputs": [],
   "source": [
    "dataset_filtered_comments=dataset[(dataset.noOfComments<max_threshold)]"
   ]
  },
  {
   "cell_type": "code",
   "execution_count": 13,
   "metadata": {},
   "outputs": [
    {
     "data": {
      "text/plain": [
       "(1023, 6)"
      ]
     },
     "execution_count": 13,
     "metadata": {},
     "output_type": "execute_result"
    }
   ],
   "source": [
    "dataset_filtered_comments.shape"
   ]
  },
  {
   "cell_type": "code",
   "execution_count": 14,
   "metadata": {},
   "outputs": [
    {
     "data": {
      "text/plain": [
       "(7.0, 28.0)"
      ]
     },
     "execution_count": 14,
     "metadata": {},
     "output_type": "execute_result"
    }
   ],
   "source": [
    "min_threshold1, max_threshold1=dataset_filtered_comments.noOfevents.quantile([0.02,0.92])\n",
    "min_threshold1 , max_threshold1"
   ]
  },
  {
   "cell_type": "code",
   "execution_count": 15,
   "metadata": {},
   "outputs": [
    {
     "data": {
      "text/html": [
       "<div>\n",
       "<style scoped>\n",
       "    .dataframe tbody tr th:only-of-type {\n",
       "        vertical-align: middle;\n",
       "    }\n",
       "\n",
       "    .dataframe tbody tr th {\n",
       "        vertical-align: top;\n",
       "    }\n",
       "\n",
       "    .dataframe thead th {\n",
       "        text-align: right;\n",
       "    }\n",
       "</style>\n",
       "<table border=\"1\" class=\"dataframe\">\n",
       "  <thead>\n",
       "    <tr style=\"text-align: right;\">\n",
       "      <th></th>\n",
       "      <th>noOfComments</th>\n",
       "      <th>AnsibleVersion</th>\n",
       "      <th>noOfevents</th>\n",
       "      <th>noOfDevelopers</th>\n",
       "      <th>sameBugFixTimeClass</th>\n",
       "      <th>timeToFixClass</th>\n",
       "    </tr>\n",
       "  </thead>\n",
       "  <tbody>\n",
       "    <tr>\n",
       "      <th>23</th>\n",
       "      <td>1</td>\n",
       "      <td>2.11</td>\n",
       "      <td>30.0</td>\n",
       "      <td>1</td>\n",
       "      <td>1</td>\n",
       "      <td>2</td>\n",
       "    </tr>\n",
       "    <tr>\n",
       "      <th>24</th>\n",
       "      <td>3</td>\n",
       "      <td>2.9</td>\n",
       "      <td>30.0</td>\n",
       "      <td>11</td>\n",
       "      <td>2</td>\n",
       "      <td>3</td>\n",
       "    </tr>\n",
       "    <tr>\n",
       "      <th>39</th>\n",
       "      <td>0</td>\n",
       "      <td>2.11</td>\n",
       "      <td>30.0</td>\n",
       "      <td>1</td>\n",
       "      <td>5</td>\n",
       "      <td>3</td>\n",
       "    </tr>\n",
       "    <tr>\n",
       "      <th>44</th>\n",
       "      <td>8</td>\n",
       "      <td>2.11</td>\n",
       "      <td>30.0</td>\n",
       "      <td>10</td>\n",
       "      <td>2</td>\n",
       "      <td>4</td>\n",
       "    </tr>\n",
       "    <tr>\n",
       "      <th>55</th>\n",
       "      <td>3</td>\n",
       "      <td>2.1</td>\n",
       "      <td>30.0</td>\n",
       "      <td>4</td>\n",
       "      <td>4</td>\n",
       "      <td>4</td>\n",
       "    </tr>\n",
       "    <tr>\n",
       "      <th>...</th>\n",
       "      <td>...</td>\n",
       "      <td>...</td>\n",
       "      <td>...</td>\n",
       "      <td>...</td>\n",
       "      <td>...</td>\n",
       "      <td>...</td>\n",
       "    </tr>\n",
       "    <tr>\n",
       "      <th>996</th>\n",
       "      <td>7</td>\n",
       "      <td>2.1</td>\n",
       "      <td>30.0</td>\n",
       "      <td>4</td>\n",
       "      <td>4</td>\n",
       "      <td>5</td>\n",
       "    </tr>\n",
       "    <tr>\n",
       "      <th>1001</th>\n",
       "      <td>8</td>\n",
       "      <td>P2</td>\n",
       "      <td>30.0</td>\n",
       "      <td>5</td>\n",
       "      <td>4</td>\n",
       "      <td>3</td>\n",
       "    </tr>\n",
       "    <tr>\n",
       "      <th>1056</th>\n",
       "      <td>8</td>\n",
       "      <td>2.1</td>\n",
       "      <td>30.0</td>\n",
       "      <td>4</td>\n",
       "      <td>1</td>\n",
       "      <td>3</td>\n",
       "    </tr>\n",
       "    <tr>\n",
       "      <th>1060</th>\n",
       "      <td>6</td>\n",
       "      <td>2.1</td>\n",
       "      <td>29.0</td>\n",
       "      <td>5</td>\n",
       "      <td>1</td>\n",
       "      <td>3</td>\n",
       "    </tr>\n",
       "    <tr>\n",
       "      <th>1070</th>\n",
       "      <td>3</td>\n",
       "      <td>2.1</td>\n",
       "      <td>30.0</td>\n",
       "      <td>3</td>\n",
       "      <td>3</td>\n",
       "      <td>4</td>\n",
       "    </tr>\n",
       "  </tbody>\n",
       "</table>\n",
       "<p>75 rows × 6 columns</p>\n",
       "</div>"
      ],
      "text/plain": [
       "      noOfComments AnsibleVersion  noOfevents  noOfDevelopers  \\\n",
       "23               1           2.11        30.0               1   \n",
       "24               3            2.9        30.0              11   \n",
       "39               0           2.11        30.0               1   \n",
       "44               8           2.11        30.0              10   \n",
       "55               3            2.1        30.0               4   \n",
       "...            ...            ...         ...             ...   \n",
       "996              7            2.1        30.0               4   \n",
       "1001             8             P2        30.0               5   \n",
       "1056             8            2.1        30.0               4   \n",
       "1060             6            2.1        29.0               5   \n",
       "1070             3            2.1        30.0               3   \n",
       "\n",
       "      sameBugFixTimeClass  timeToFixClass  \n",
       "23                      1               2  \n",
       "24                      2               3  \n",
       "39                      5               3  \n",
       "44                      2               4  \n",
       "55                      4               4  \n",
       "...                   ...             ...  \n",
       "996                     4               5  \n",
       "1001                    4               3  \n",
       "1056                    1               3  \n",
       "1060                    1               3  \n",
       "1070                    3               4  \n",
       "\n",
       "[75 rows x 6 columns]"
      ]
     },
     "execution_count": 15,
     "metadata": {},
     "output_type": "execute_result"
    }
   ],
   "source": [
    "dataset_filtered_comments[dataset_filtered_comments.noOfevents>max_threshold1]"
   ]
  },
  {
   "cell_type": "code",
   "execution_count": 16,
   "metadata": {},
   "outputs": [],
   "source": [
    "dataset_filtered_events=dataset_filtered_comments[(dataset_filtered_comments.noOfevents<max_threshold1)]"
   ]
  },
  {
   "cell_type": "code",
   "execution_count": 17,
   "metadata": {},
   "outputs": [
    {
     "data": {
      "text/plain": [
       "(940, 6)"
      ]
     },
     "execution_count": 17,
     "metadata": {},
     "output_type": "execute_result"
    }
   ],
   "source": [
    "dataset_filtered_events.shape"
   ]
  },
  {
   "cell_type": "code",
   "execution_count": 18,
   "metadata": {},
   "outputs": [
    {
     "data": {
      "text/plain": [
       "(1.0, 6.0)"
      ]
     },
     "execution_count": 18,
     "metadata": {},
     "output_type": "execute_result"
    }
   ],
   "source": [
    "min_threshold2, max_threshold2=dataset_filtered_events.noOfDevelopers.quantile([0.02,0.95])\n",
    "min_threshold2 , max_threshold2"
   ]
  },
  {
   "cell_type": "code",
   "execution_count": 19,
   "metadata": {},
   "outputs": [
    {
     "data": {
      "text/html": [
       "<div>\n",
       "<style scoped>\n",
       "    .dataframe tbody tr th:only-of-type {\n",
       "        vertical-align: middle;\n",
       "    }\n",
       "\n",
       "    .dataframe tbody tr th {\n",
       "        vertical-align: top;\n",
       "    }\n",
       "\n",
       "    .dataframe thead th {\n",
       "        text-align: right;\n",
       "    }\n",
       "</style>\n",
       "<table border=\"1\" class=\"dataframe\">\n",
       "  <thead>\n",
       "    <tr style=\"text-align: right;\">\n",
       "      <th></th>\n",
       "      <th>noOfComments</th>\n",
       "      <th>AnsibleVersion</th>\n",
       "      <th>noOfevents</th>\n",
       "      <th>noOfDevelopers</th>\n",
       "      <th>sameBugFixTimeClass</th>\n",
       "      <th>timeToFixClass</th>\n",
       "    </tr>\n",
       "  </thead>\n",
       "  <tbody>\n",
       "    <tr>\n",
       "      <th>342</th>\n",
       "      <td>2</td>\n",
       "      <td>2.1</td>\n",
       "      <td>26.0</td>\n",
       "      <td>7</td>\n",
       "      <td>4</td>\n",
       "      <td>3</td>\n",
       "    </tr>\n",
       "    <tr>\n",
       "      <th>347</th>\n",
       "      <td>5</td>\n",
       "      <td>2.9</td>\n",
       "      <td>20.0</td>\n",
       "      <td>7</td>\n",
       "      <td>1</td>\n",
       "      <td>3</td>\n",
       "    </tr>\n",
       "    <tr>\n",
       "      <th>350</th>\n",
       "      <td>8</td>\n",
       "      <td>2.9</td>\n",
       "      <td>22.0</td>\n",
       "      <td>9</td>\n",
       "      <td>1</td>\n",
       "      <td>4</td>\n",
       "    </tr>\n",
       "    <tr>\n",
       "      <th>403</th>\n",
       "      <td>2</td>\n",
       "      <td>2.11</td>\n",
       "      <td>24.0</td>\n",
       "      <td>7</td>\n",
       "      <td>2</td>\n",
       "      <td>1</td>\n",
       "    </tr>\n",
       "    <tr>\n",
       "      <th>437</th>\n",
       "      <td>1</td>\n",
       "      <td>2.11</td>\n",
       "      <td>22.0</td>\n",
       "      <td>7</td>\n",
       "      <td>3</td>\n",
       "      <td>1</td>\n",
       "    </tr>\n",
       "    <tr>\n",
       "      <th>458</th>\n",
       "      <td>4</td>\n",
       "      <td>2.9</td>\n",
       "      <td>20.0</td>\n",
       "      <td>7</td>\n",
       "      <td>1</td>\n",
       "      <td>2</td>\n",
       "    </tr>\n",
       "    <tr>\n",
       "      <th>474</th>\n",
       "      <td>3</td>\n",
       "      <td>2.11</td>\n",
       "      <td>18.0</td>\n",
       "      <td>7</td>\n",
       "      <td>1</td>\n",
       "      <td>3</td>\n",
       "    </tr>\n",
       "    <tr>\n",
       "      <th>489</th>\n",
       "      <td>5</td>\n",
       "      <td>2.9</td>\n",
       "      <td>18.0</td>\n",
       "      <td>7</td>\n",
       "      <td>2</td>\n",
       "      <td>1</td>\n",
       "    </tr>\n",
       "    <tr>\n",
       "      <th>531</th>\n",
       "      <td>4</td>\n",
       "      <td>2.11</td>\n",
       "      <td>25.0</td>\n",
       "      <td>7</td>\n",
       "      <td>1</td>\n",
       "      <td>4</td>\n",
       "    </tr>\n",
       "    <tr>\n",
       "      <th>572</th>\n",
       "      <td>4</td>\n",
       "      <td>2.11</td>\n",
       "      <td>22.0</td>\n",
       "      <td>7</td>\n",
       "      <td>1</td>\n",
       "      <td>1</td>\n",
       "    </tr>\n",
       "    <tr>\n",
       "      <th>624</th>\n",
       "      <td>4</td>\n",
       "      <td>2.11</td>\n",
       "      <td>24.0</td>\n",
       "      <td>7</td>\n",
       "      <td>1</td>\n",
       "      <td>2</td>\n",
       "    </tr>\n",
       "    <tr>\n",
       "      <th>707</th>\n",
       "      <td>9</td>\n",
       "      <td>2.9</td>\n",
       "      <td>16.0</td>\n",
       "      <td>7</td>\n",
       "      <td>4</td>\n",
       "      <td>2</td>\n",
       "    </tr>\n",
       "    <tr>\n",
       "      <th>828</th>\n",
       "      <td>6</td>\n",
       "      <td>2.11</td>\n",
       "      <td>17.0</td>\n",
       "      <td>9</td>\n",
       "      <td>1</td>\n",
       "      <td>5</td>\n",
       "    </tr>\n",
       "    <tr>\n",
       "      <th>849</th>\n",
       "      <td>0</td>\n",
       "      <td>2.11</td>\n",
       "      <td>17.0</td>\n",
       "      <td>7</td>\n",
       "      <td>3</td>\n",
       "      <td>1</td>\n",
       "    </tr>\n",
       "    <tr>\n",
       "      <th>872</th>\n",
       "      <td>2</td>\n",
       "      <td>2.11</td>\n",
       "      <td>23.0</td>\n",
       "      <td>8</td>\n",
       "      <td>1</td>\n",
       "      <td>1</td>\n",
       "    </tr>\n",
       "    <tr>\n",
       "      <th>931</th>\n",
       "      <td>1</td>\n",
       "      <td>2.11</td>\n",
       "      <td>19.0</td>\n",
       "      <td>7</td>\n",
       "      <td>2</td>\n",
       "      <td>1</td>\n",
       "    </tr>\n",
       "    <tr>\n",
       "      <th>935</th>\n",
       "      <td>6</td>\n",
       "      <td>2.9</td>\n",
       "      <td>21.0</td>\n",
       "      <td>7</td>\n",
       "      <td>2</td>\n",
       "      <td>6</td>\n",
       "    </tr>\n",
       "    <tr>\n",
       "      <th>1011</th>\n",
       "      <td>3</td>\n",
       "      <td>P3</td>\n",
       "      <td>21.0</td>\n",
       "      <td>9</td>\n",
       "      <td>2</td>\n",
       "      <td>3</td>\n",
       "    </tr>\n",
       "    <tr>\n",
       "      <th>1030</th>\n",
       "      <td>6</td>\n",
       "      <td>2.1</td>\n",
       "      <td>19.0</td>\n",
       "      <td>7</td>\n",
       "      <td>3</td>\n",
       "      <td>1</td>\n",
       "    </tr>\n",
       "    <tr>\n",
       "      <th>1041</th>\n",
       "      <td>6</td>\n",
       "      <td>2.9</td>\n",
       "      <td>18.0</td>\n",
       "      <td>7</td>\n",
       "      <td>1</td>\n",
       "      <td>2</td>\n",
       "    </tr>\n",
       "  </tbody>\n",
       "</table>\n",
       "</div>"
      ],
      "text/plain": [
       "      noOfComments AnsibleVersion  noOfevents  noOfDevelopers  \\\n",
       "342              2            2.1        26.0               7   \n",
       "347              5            2.9        20.0               7   \n",
       "350              8            2.9        22.0               9   \n",
       "403              2           2.11        24.0               7   \n",
       "437              1           2.11        22.0               7   \n",
       "458              4            2.9        20.0               7   \n",
       "474              3           2.11        18.0               7   \n",
       "489              5            2.9        18.0               7   \n",
       "531              4           2.11        25.0               7   \n",
       "572              4           2.11        22.0               7   \n",
       "624              4           2.11        24.0               7   \n",
       "707              9            2.9        16.0               7   \n",
       "828              6           2.11        17.0               9   \n",
       "849              0           2.11        17.0               7   \n",
       "872              2           2.11        23.0               8   \n",
       "931              1           2.11        19.0               7   \n",
       "935              6            2.9        21.0               7   \n",
       "1011             3             P3        21.0               9   \n",
       "1030             6            2.1        19.0               7   \n",
       "1041             6            2.9        18.0               7   \n",
       "\n",
       "      sameBugFixTimeClass  timeToFixClass  \n",
       "342                     4               3  \n",
       "347                     1               3  \n",
       "350                     1               4  \n",
       "403                     2               1  \n",
       "437                     3               1  \n",
       "458                     1               2  \n",
       "474                     1               3  \n",
       "489                     2               1  \n",
       "531                     1               4  \n",
       "572                     1               1  \n",
       "624                     1               2  \n",
       "707                     4               2  \n",
       "828                     1               5  \n",
       "849                     3               1  \n",
       "872                     1               1  \n",
       "931                     2               1  \n",
       "935                     2               6  \n",
       "1011                    2               3  \n",
       "1030                    3               1  \n",
       "1041                    1               2  "
      ]
     },
     "execution_count": 19,
     "metadata": {},
     "output_type": "execute_result"
    }
   ],
   "source": [
    "dataset_filtered_events[dataset_filtered_events.noOfDevelopers>max_threshold2]"
   ]
  },
  {
   "cell_type": "code",
   "execution_count": 20,
   "metadata": {},
   "outputs": [],
   "source": [
    "dataset_filtered_all=dataset_filtered_events[(dataset_filtered_events.noOfDevelopers<max_threshold2)]"
   ]
  },
  {
   "cell_type": "code",
   "execution_count": 21,
   "metadata": {},
   "outputs": [
    {
     "data": {
      "text/plain": [
       "(879, 6)"
      ]
     },
     "execution_count": 21,
     "metadata": {},
     "output_type": "execute_result"
    }
   ],
   "source": [
    "dataset_filtered_all.shape\n"
   ]
  },
  {
   "cell_type": "code",
   "execution_count": 22,
   "metadata": {},
   "outputs": [
    {
     "data": {
      "text/html": [
       "<div>\n",
       "<style scoped>\n",
       "    .dataframe tbody tr th:only-of-type {\n",
       "        vertical-align: middle;\n",
       "    }\n",
       "\n",
       "    .dataframe tbody tr th {\n",
       "        vertical-align: top;\n",
       "    }\n",
       "\n",
       "    .dataframe thead th {\n",
       "        text-align: right;\n",
       "    }\n",
       "</style>\n",
       "<table border=\"1\" class=\"dataframe\">\n",
       "  <thead>\n",
       "    <tr style=\"text-align: right;\">\n",
       "      <th></th>\n",
       "      <th>noOfComments</th>\n",
       "      <th>AnsibleVersion</th>\n",
       "      <th>noOfevents</th>\n",
       "      <th>noOfDevelopers</th>\n",
       "      <th>sameBugFixTimeClass</th>\n",
       "      <th>timeToFixClass</th>\n",
       "    </tr>\n",
       "  </thead>\n",
       "  <tbody>\n",
       "    <tr>\n",
       "      <th>0</th>\n",
       "      <td>2</td>\n",
       "      <td>2.9</td>\n",
       "      <td>6.0</td>\n",
       "      <td>1</td>\n",
       "      <td>1</td>\n",
       "      <td>1</td>\n",
       "    </tr>\n",
       "    <tr>\n",
       "      <th>1</th>\n",
       "      <td>2</td>\n",
       "      <td>2.1</td>\n",
       "      <td>8.0</td>\n",
       "      <td>1</td>\n",
       "      <td>1</td>\n",
       "      <td>1</td>\n",
       "    </tr>\n",
       "    <tr>\n",
       "      <th>2</th>\n",
       "      <td>0</td>\n",
       "      <td>2.8</td>\n",
       "      <td>15.0</td>\n",
       "      <td>2</td>\n",
       "      <td>1</td>\n",
       "      <td>1</td>\n",
       "    </tr>\n",
       "    <tr>\n",
       "      <th>3</th>\n",
       "      <td>0</td>\n",
       "      <td>2.9</td>\n",
       "      <td>19.0</td>\n",
       "      <td>1</td>\n",
       "      <td>1</td>\n",
       "      <td>1</td>\n",
       "    </tr>\n",
       "    <tr>\n",
       "      <th>4</th>\n",
       "      <td>0</td>\n",
       "      <td>2.1</td>\n",
       "      <td>15.0</td>\n",
       "      <td>1</td>\n",
       "      <td>1</td>\n",
       "      <td>1</td>\n",
       "    </tr>\n",
       "  </tbody>\n",
       "</table>\n",
       "</div>"
      ],
      "text/plain": [
       "   noOfComments AnsibleVersion  noOfevents  noOfDevelopers  \\\n",
       "0             2            2.9         6.0               1   \n",
       "1             2            2.1         8.0               1   \n",
       "2             0            2.8        15.0               2   \n",
       "3             0            2.9        19.0               1   \n",
       "4             0            2.1        15.0               1   \n",
       "\n",
       "   sameBugFixTimeClass  timeToFixClass  \n",
       "0                    1               1  \n",
       "1                    1               1  \n",
       "2                    1               1  \n",
       "3                    1               1  \n",
       "4                    1               1  "
      ]
     },
     "execution_count": 22,
     "metadata": {},
     "output_type": "execute_result"
    }
   ],
   "source": [
    "dataset_filtered_all.head()"
   ]
  },
  {
   "cell_type": "code",
   "execution_count": 23,
   "metadata": {},
   "outputs": [],
   "source": [
    "x=dataset_filtered_all.iloc[:,[0,2,3,4]].values\n",
    "x_col=dataset_filtered_all.iloc[:,[0,2,3,4]]\n",
    "y=dataset_filtered_all.iloc[:,[5]].values\n"
   ]
  },
  {
   "cell_type": "code",
   "execution_count": 24,
   "metadata": {},
   "outputs": [],
   "source": [
    "from sklearn.model_selection import train_test_split"
   ]
  },
  {
   "cell_type": "code",
   "execution_count": 25,
   "metadata": {},
   "outputs": [],
   "source": [
    "x_train,x_test,y_train,y_test=train_test_split(x,y,test_size=0.20,random_state=0)"
   ]
  },
  {
   "cell_type": "code",
   "execution_count": 26,
   "metadata": {},
   "outputs": [],
   "source": [
    "from sklearn.preprocessing import StandardScaler\n",
    "\n",
    "sc = StandardScaler()\n",
    "x_train = sc.fit_transform(x_train)\n",
    "x_test = sc.transform(x_test)"
   ]
  },
  {
   "cell_type": "code",
   "execution_count": 36,
   "metadata": {},
   "outputs": [
    {
     "name": "stderr",
     "output_type": "stream",
     "text": [
      "c:\\users\\asus\\appdata\\local\\programs\\python\\python36\\lib\\site-packages\\ipykernel_launcher.py:2: DataConversionWarning: A column-vector y was passed when a 1d array was expected. Please change the shape of y to (n_samples, ), for example using ravel().\n",
      "  \n"
     ]
    }
   ],
   "source": [
    "from sklearn.neighbors import KNeighborsClassifier\n",
    "classifier=KNeighborsClassifier(n_neighbors=37)\n",
    "classifier.fit(x_train,y_train)\n"
   ]
  },
  {
   "cell_type": "code",
   "execution_count": 37,
   "metadata": {},
   "outputs": [],
   "source": [
    "y_pred = classifier.predict(x_test)"
   ]
  },
  {
   "cell_type": "code",
   "execution_count": 38,
   "metadata": {},
   "outputs": [
    {
     "name": "stdout",
     "output_type": "stream",
     "text": [
      "             precision    recall  f1-score   support\n",
      "\n",
      "          1       0.60      0.98      0.74       104\n",
      "          2       0.00      0.00      0.00        25\n",
      "          3       0.00      0.00      0.00        16\n",
      "          4       0.60      0.17      0.26        18\n",
      "          5       0.00      0.00      0.00        11\n",
      "          6       0.00      0.00      0.00         2\n",
      "\n",
      "avg / total       0.41      0.60      0.47       176\n",
      "\n",
      "[[102   0   0   2   0   0]\n",
      " [ 25   0   0   0   0   0]\n",
      " [ 16   0   0   0   0   0]\n",
      " [ 15   0   0   3   0   0]\n",
      " [ 11   0   0   0   0   0]\n",
      " [  2   0   0   0   0   0]]\n"
     ]
    }
   ],
   "source": [
    "from sklearn.metrics import classification_report, confusion_matrix\n",
    "print(classification_report(y_test,y_pred))\n",
    "print(confusion_matrix(y_test,y_pred))"
   ]
  },
  {
   "cell_type": "code",
   "execution_count": 51,
   "metadata": {},
   "outputs": [],
   "source": [
    "from sklearn.metrics import accuracy_score,mean_squared_error"
   ]
  },
  {
   "cell_type": "code",
   "execution_count": 52,
   "metadata": {
    "scrolled": true
   },
   "outputs": [
    {
     "name": "stdout",
     "output_type": "stream",
     "text": [
      "Accuracy Score:  0.5965909090909091\n"
     ]
    }
   ],
   "source": [
    "print('Accuracy Score: ', accuracy_score(y_test,y_pred))"
   ]
  },
  {
   "cell_type": "code",
   "execution_count": 53,
   "metadata": {},
   "outputs": [
    {
     "name": "stdout",
     "output_type": "stream",
     "text": [
      "2.659090909090909\n"
     ]
    }
   ],
   "source": [
    "print(mean_squared_error(y_test,y_pred))"
   ]
  },
  {
   "cell_type": "code",
   "execution_count": 54,
   "metadata": {},
   "outputs": [
    {
     "name": "stderr",
     "output_type": "stream",
     "text": [
      "c:\\users\\asus\\appdata\\local\\programs\\python\\python36\\lib\\site-packages\\ipykernel_launcher.py:5: DataConversionWarning: A column-vector y was passed when a 1d array was expected. Please change the shape of y to (n_samples, ), for example using ravel().\n",
      "  \"\"\"\n"
     ]
    }
   ],
   "source": [
    "acc = []\n",
    "# Will take some time\n",
    "from sklearn import metrics\n",
    "for i in range(1,51):\n",
    "    neigh = KNeighborsClassifier(n_neighbors = i).fit(x_train,y_train)\n",
    "    yhat = neigh.predict(x_test)\n",
    "    acc.append(metrics.accuracy_score(y_test, yhat))\n",
    "    \n"
   ]
  },
  {
   "cell_type": "code",
   "execution_count": 55,
   "metadata": {},
   "outputs": [],
   "source": [
    "import matplotlib.pyplot as plt"
   ]
  },
  {
   "cell_type": "code",
   "execution_count": 56,
   "metadata": {},
   "outputs": [
    {
     "data": {
      "text/plain": [
       "[<matplotlib.lines.Line2D at 0x1fea81809e8>]"
      ]
     },
     "execution_count": 56,
     "metadata": {},
     "output_type": "execute_result"
    },
    {
     "data": {
      "image/png": "[encoded data removed]",
      "text/plain": [
       "<Figure size 432x288 with 1 Axes>"
      ]
     },
     "metadata": {
      "needs_background": "light"
     },
     "output_type": "display_data"
    }
   ],
   "source": [
    "plt.plot(range(1,51),acc)"
   ]
  },
  {
   "cell_type": "code",
   "execution_count": 57,
   "metadata": {},
   "outputs": [
    {
     "name": "stdout",
     "output_type": "stream",
     "text": [
      "Maximum accuracy:- 0.6022727272727273 at K = 37\n"
     ]
    }
   ],
   "source": [
    "print(\"Maximum accuracy:-\",max(acc),\"at K =\",acc.index(max(acc)))"
   ]
  },
  {
   "cell_type": "markdown",
   "metadata": {},
   "source": [
    "<h2>Accuracy is 0.6022 at k=37</h2>"
   ]
  }
 ],
 "metadata": {
  "kernelspec": {
   "display_name": "Python 3",
   "language": "python",
   "name": "python3"
  },
  "language_info": {
   "codemirror_mode": {
    "name": "ipython",
    "version": 3
   },
   "file_extension": ".py",
   "mimetype": "text/x-python",
   "name": "python",
   "nbconvert_exporter": "python",
   "pygments_lexer": "ipython3",
   "version": "3.6.2"
  }
 },
 "nbformat": 4,
 "nbformat_minor": 4
}
